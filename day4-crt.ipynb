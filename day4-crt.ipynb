{
 "cells": [
  {
   "cell_type": "code",
   "execution_count": 4,
   "id": "3ce068ae",
   "metadata": {},
   "outputs": [
    {
     "name": "stdout",
     "output_type": "stream",
     "text": [
      "python\n",
      "java\n",
      "sql\n",
      "c++\n",
      "python\n",
      "java\n",
      "sql\n",
      "c++\n"
     ]
    }
   ],
   "source": [
    "def display():\n",
    "    print(\"python\")\n",
    "    print(\"java\")\n",
    "    print(\"sql\")\n",
    "    print(\"c++\")\n",
    "display()\n",
    "display()"
   ]
  },
  {
   "cell_type": "code",
   "execution_count": 5,
   "id": "78030590",
   "metadata": {},
   "outputs": [
    {
     "name": "stdout",
     "output_type": "stream",
     "text": [
      "['python', 'java', 'sql', 'c++', 'python', 'java', 'sql', 'c++', 'python', 'java', 'sql', 'c++'] "
     ]
    }
   ],
   "source": [
    "a=[\"python\",'java','sql','c++']\n",
    "print(a*3,end=\" \")"
   ]
  },
  {
   "cell_type": "code",
   "execution_count": 6,
   "id": "6370c06d",
   "metadata": {},
   "outputs": [
    {
     "name": "stdout",
     "output_type": "stream",
     "text": [
      "addition :6\n",
      "subtraction :-2\n",
      "multiplication :8\n",
      "divison :0.5\n"
     ]
    }
   ],
   "source": [
    "#to perform all arthmetic operations using functions\n",
    "def operations(a,b):\n",
    "    print(f\"addition :{a+b}\")\n",
    "    print(f\"subtraction :{a-b}\")\n",
    "    print(f\"multiplication :{a*b}\")\n",
    "    print(f\"divison :{a/b}\")\n",
    "operations(2,4)"
   ]
  },
  {
   "cell_type": "code",
   "execution_count": 8,
   "id": "a2e1411f",
   "metadata": {},
   "outputs": [
    {
     "name": "stdout",
     "output_type": "stream",
     "text": [
      "addition :6\n",
      "subtraction :-2\n",
      "multiplication :8\n",
      "divison :0.5\n"
     ]
    }
   ],
   "source": [
    "def operations(a=2,b=4):\n",
    "    print(f\"addition :{a+b}\")\n",
    "    print(f\"subtraction :{a-b}\")\n",
    "    print(f\"multiplication :{a*b}\")\n",
    "    print(f\"divison :{a/b}\")\n",
    "operations()"
   ]
  },
  {
   "cell_type": "code",
   "execution_count": 9,
   "id": "b285a0dc",
   "metadata": {},
   "outputs": [
    {
     "name": "stdout",
     "output_type": "stream",
     "text": [
      "6\n",
      "7\n"
     ]
    }
   ],
   "source": [
    "def add(a,b):\n",
    "    return a+b\n",
    "print(add(2,4))\n",
    "res=add(2,5)\n",
    "print(res)"
   ]
  },
  {
   "cell_type": "code",
   "execution_count": 11,
   "id": "696674b7",
   "metadata": {},
   "outputs": [
    {
     "name": "stdout",
     "output_type": "stream",
     "text": [
      "multiplication table of : \n",
      "7 x 1 = 7\n",
      "7 x 2 = 14\n",
      "7 x 3 = 21\n",
      "7 x 4 = 28\n",
      "7 x 5 = 35\n",
      "7 x 6 = 42\n",
      "7 x 7 = 49\n",
      "7 x 8 = 56\n",
      "7 x 9 = 63\n",
      "7 x 10 = 70\n",
      "\n",
      "multiplication table of : \n",
      "6 x 1 = 6\n",
      "6 x 2 = 12\n",
      "6 x 3 = 18\n",
      "6 x 4 = 24\n",
      "6 x 5 = 30\n",
      "6 x 6 = 36\n",
      "6 x 7 = 42\n",
      "6 x 8 = 48\n",
      "6 x 9 = 54\n",
      "6 x 10 = 60\n",
      "\n"
     ]
    }
   ],
   "source": [
    "# to print multiplication table of n using functions\n",
    "def table(n):\n",
    "    print(f\"multiplication table of : \")\n",
    "    for i in range(1,11):\n",
    "        print(f\"{n} x {i} = {n*i}\")\n",
    "    print()\n",
    "table(7)\n",
    "table(6)"
   ]
  },
  {
   "cell_type": "code",
   "execution_count": 20,
   "id": "4c2bff85",
   "metadata": {},
   "outputs": [
    {
     "name": "stdout",
     "output_type": "stream",
     "text": [
      "Multiplication table of: 5\n",
      "5 x 1 = 5\n",
      "5 x 2 = 10\n",
      "5 x 3 = 15\n",
      "5 x 4 = 20\n",
      "5 x 5 = 25\n",
      "5 x 6 = 30\n",
      "5 x 7 = 35\n",
      "5 x 8 = 40\n",
      "5 x 9 = 45\n",
      "5 x 10 = 50\n",
      "\n"
     ]
    }
   ],
   "source": [
    "def table(n):\n",
    "    print(\"Multiplication table of:\", n)\n",
    "    for i in range(1, 11):\n",
    "        print(n, \"x\", i, \"=\", n * i)\n",
    "    print()\n",
    "\n",
    "table(5)"
   ]
  },
  {
   "cell_type": "code",
   "execution_count": 21,
   "id": "95fdcae1",
   "metadata": {},
   "outputs": [
    {
     "name": "stdout",
     "output_type": "stream",
     "text": [
      "simple interset :40.0\n"
     ]
    }
   ],
   "source": [
    "# to calculate the simple interset by using a parameterized function\n",
    "def caluclate_interset(p,t,r):\n",
    "    interest=(p*t*r/100)\n",
    "    print(f\"simple interset :{interest}\")\n",
    "caluclate_interset(1000,2,2)"
   ]
  },
  {
   "cell_type": "code",
   "execution_count": 1,
   "id": "fad85e87",
   "metadata": {},
   "outputs": [
    {
     "name": "stdout",
     "output_type": "stream",
     "text": [
      "enter the size of the list :5\n",
      "enter the element at 0 index :1\n",
      "enter the element at 1 index :2\n",
      "enter the element at 2 index :3\n",
      "enter the element at 3 index :4\n",
      "enter the element at 4 index :5\n",
      "user entered list :\n",
      "[1, 2, 3, 4, 5]\n"
     ]
    }
   ],
   "source": [
    "# to read list of elements and add elements and print the list\n",
    "size=int(input(\"enter the size of the list :\"))\n",
    "num=[]\n",
    "for i in range(size):\n",
    "    val=int(input(f\"enter the element at {i} index :\"))\n",
    "    num.append(val)\n",
    "print(\"user entered list :\")\n",
    "print(num)\n",
    "    "
   ]
  },
  {
   "cell_type": "code",
   "execution_count": 3,
   "id": "3dc33019",
   "metadata": {},
   "outputs": [
    {
     "name": "stdout",
     "output_type": "stream",
     "text": [
      "enter the size of the list :4\n",
      "enter the element at 0 index :t\n",
      "enter the element at 1 index :s\n",
      "enter the element at 2 index :f\n",
      "enter the element at 3 index :e\n",
      "user intered elements\n",
      "['e', 'f', 's', 't']\n"
     ]
    }
   ],
   "source": [
    "# to read the size of the list form the user, read the list elements are alphabtic chracters and print user entered list and sorted version of user enterd \n",
    "size=int(input(\"enter the size of the list :\"))\n",
    "lis=[]\n",
    "for i in range(size):\n",
    "    str=input(f\"enter the element at {i} index :\")\n",
    "    lis.append(str)\n",
    "print(\"user intered elements\")\n",
    "print(sorted(lis))"
   ]
  },
  {
   "cell_type": "code",
   "execution_count": null,
   "id": "e802a55d",
   "metadata": {},
   "outputs": [],
   "source": []
  },
  {
   "cell_type": "code",
   "execution_count": null,
   "id": "496c092b",
   "metadata": {},
   "outputs": [],
   "source": []
  }
 ],
 "metadata": {
  "kernelspec": {
   "display_name": "Python 3 (ipykernel)",
   "language": "python",
   "name": "python3"
  },
  "language_info": {
   "codemirror_mode": {
    "name": "ipython",
    "version": 3
   },
   "file_extension": ".py",
   "mimetype": "text/x-python",
   "name": "python",
   "nbconvert_exporter": "python",
   "pygments_lexer": "ipython3",
   "version": "3.9.7"
  }
 },
 "nbformat": 4,
 "nbformat_minor": 5
}
