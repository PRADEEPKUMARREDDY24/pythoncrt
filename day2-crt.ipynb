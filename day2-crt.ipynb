{
 "cells": [
  {
   "cell_type": "code",
   "execution_count": 7,
   "id": "2a056d52",
   "metadata": {},
   "outputs": [
    {
     "name": "stdout",
     "output_type": "stream",
     "text": [
      "enter the withdrawal amount4034\n",
      "insufficient balance\n"
     ]
    }
   ],
   "source": [
    "amount=int(input(\"enter the withdrawal amount\"))\n",
    "acc_balance=5000\n",
    "if(amount<=acc_balance and amount%100==0):\n",
    "    print(\"withdrawal successful\")\n",
    "else:\n",
    "    print(\"insufficient balance\")"
   ]
  },
  {
   "cell_type": "code",
   "execution_count": 8,
   "id": "1b72eecd",
   "metadata": {},
   "outputs": [
    {
     "name": "stdout",
     "output_type": "stream",
     "text": [
      "enter the withdrawal amount4000\n",
      "withdrawal successful\n"
     ]
    }
   ],
   "source": [
    "amount=int(input(\"enter the withdrawal amount\"))\n",
    "acc_balance=5000\n",
    "if(amount<=acc_balance and amount%100==0):\n",
    "    print(\"withdrawal successful\")\n",
    "else:\n",
    "    print(\"insufficient balance\")"
   ]
  },
  {
   "cell_type": "code",
   "execution_count": 9,
   "id": "33bc5ccc",
   "metadata": {},
   "outputs": [
    {
     "name": "stdout",
     "output_type": "stream",
     "text": [
      "enter the withdrawal amount3456\n",
      "insufficient balance\n"
     ]
    }
   ],
   "source": [
    "amount=int(input(\"enter the withdrawal amount\"))\n",
    "res=\"withdrawal successful\" if(amount<=5000 and amount%100==0) else \"insufficient balance\"\n",
    "print(res)\n"
   ]
  },
  {
   "cell_type": "code",
   "execution_count": 2,
   "id": "a1dcb8a0",
   "metadata": {},
   "outputs": [
    {
     "name": "stdout",
     "output_type": "stream",
     "text": [
      "enter the color:yellow\n",
      "get ready to go\n"
     ]
    }
   ],
   "source": [
    "#traffic signal decision \n",
    "color=input(\"enter the color:\")\n",
    "if color=='red':\n",
    "    print(\"stop immediately\")\n",
    "elif color==\"yellow\":\n",
    "    print(\"get ready to go\")\n",
    "elif color==\"green\":\n",
    "    print(\"you can move\")\n",
    "# ternary operator"
   ]
  },
  {
   "cell_type": "code",
   "execution_count": 6,
   "id": "1ecb8b60",
   "metadata": {},
   "outputs": [
    {
     "name": "stdout",
     "output_type": "stream",
     "text": [
      "enter the age12\n",
      "ticket price will 150\n"
     ]
    }
   ],
   "source": [
    "n=int(input(\"enter the age\"))\n",
    "if(n<=12):\n",
    "    print(\"ticket price will 150\")\n",
    "elif(n<12 and 18>n):\n",
    "    print(\"200\")\n",
    "elif(n<18):\n",
    "    print(\"300\")"
   ]
  },
  {
   "cell_type": "code",
   "execution_count": 5,
   "id": "ec05b64b",
   "metadata": {},
   "outputs": [
    {
     "name": "stdout",
     "output_type": "stream",
     "text": [
      "enter the age19\n",
      "300\n"
     ]
    }
   ],
   "source": [
    "n=int(input(\"enter the age\"))\n",
    "if(n<=12):\n",
    "    print(\"ticket price will 150\")\n",
    "elif(n>=12 and n<=18):\n",
    "    print(\"200\")\n",
    "elif(n>=18):\n",
    "    print(\"300\")"
   ]
  },
  {
   "cell_type": "code",
   "execution_count": 11,
   "id": "832076c9",
   "metadata": {},
   "outputs": [
    {
     "name": "stdout",
     "output_type": "stream",
     "text": [
      "enter the time5\n",
      "no ovrtime\n",
      "no overtime\n"
     ]
    }
   ],
   "source": [
    "# employee overtime pay\n",
    "n=int(input(\"enter the time\"))\n",
    "s_time=8\n",
    "if(n>s_time):\n",
    "    print(\"100 per extra hour\")\n",
    "else:\n",
    "    print(\"no ovrtime\")\n",
    "\n",
    "res=\"100 per extra hour\" if(n>8) else \"no overtime\"\n",
    "print(res)"
   ]
  },
  {
   "cell_type": "code",
   "execution_count": 7,
   "id": "d6d22c77",
   "metadata": {},
   "outputs": [
    {
     "name": "stdout",
     "output_type": "stream",
     "text": [
      "enter the time7\n",
      "no ovrtime\n"
     ]
    }
   ],
   "source": [
    "n=int(input(\"enter the time\"))\n",
    "s_time=8\n",
    "if(n>s_time):\n",
    "    print(\"100 per extra hour\")\n",
    "else:\n",
    "    print(\"no ovrtime\")"
   ]
  },
  {
   "cell_type": "code",
   "execution_count": 8,
   "id": "42231c50",
   "metadata": {},
   "outputs": [
    {
     "name": "stdout",
     "output_type": "stream",
     "text": [
      "enter the time6\n",
      "no ovrtime\n"
     ]
    }
   ],
   "source": [
    "n=int(input(\"enter the time\"))\n",
    "if(n>8):\n",
    "    print(\"100 per extra hour\")\n",
    "else:\n",
    "    print(\"no ovrtime\")"
   ]
  },
  {
   "cell_type": "code",
   "execution_count": 14,
   "id": "85d772ef",
   "metadata": {},
   "outputs": [
    {
     "name": "stdout",
     "output_type": "stream",
     "text": [
      "enter the amount200\n",
      "no discount\n"
     ]
    }
   ],
   "source": [
    "bill=int(input(\"enter the amount\"))\n",
    "if(bill>1000):\n",
    "    print(bill*10/100)\n",
    "elif(bill>500):\n",
    "    print(bill*5/100)\n",
    "elif(bill<=500):\n",
    "    print(\"no discount\")"
   ]
  },
  {
   "cell_type": "code",
   "execution_count": 16,
   "id": "1fe17fda",
   "metadata": {},
   "outputs": [
    {
     "name": "stdout",
     "output_type": "stream",
     "text": [
      "enter the amount2000\n",
      "final amount after the discount 200.0\n"
     ]
    }
   ],
   "source": [
    "bill=int(input(\"enter the amount\"))\n",
    "if(bill>1000):\n",
    "    print( \"final amount after the discount\",bill*10/100)\n",
    "elif(bill>500):\n",
    "    print(\"final amount after the discount\",bill*5/100)\n",
    "elif(bill<=500):\n",
    "    print(\"no discount\")"
   ]
  },
  {
   "cell_type": "code",
   "execution_count": 17,
   "id": "9020f20c",
   "metadata": {},
   "outputs": [
    {
     "name": "stdout",
     "output_type": "stream",
     "text": [
      "enter the amount600\n",
      "final amount after the discount 30.0\n"
     ]
    }
   ],
   "source": [
    "bill=int(input(\"enter the amount\"))\n",
    "if(bill>1000):\n",
    "    print( \"final amount after the discount\",bill*10/100)\n",
    "elif(bill>500):\n",
    "    print(\"final amount after the discount\",bill*5/100)\n",
    "elif(bill<=500):\n",
    "    print(\"no discount\")"
   ]
  },
  {
   "cell_type": "code",
   "execution_count": 2,
   "id": "10692262",
   "metadata": {},
   "outputs": [
    {
     "name": "stdout",
     "output_type": "stream",
     "text": [
      "enter the time3\n",
      "you're fine\n"
     ]
    }
   ],
   "source": [
    "n=int(input(\"enter the time\"))\n",
    "if(n>=4):\n",
    "    print(\"you are dehydrated!Drink water now!\")\n",
    "elif(n<=2 and n>=4):\n",
    "    print(\"drink a glass of water\")\n",
    "else:\n",
    "    print(\"you're fine\")"
   ]
  },
  {
   "cell_type": "code",
   "execution_count": 4,
   "id": "4f6d7369",
   "metadata": {},
   "outputs": [
    {
     "name": "stdout",
     "output_type": "stream",
     "text": [
      "enter the time3\n",
      "drink a glass of water\n"
     ]
    }
   ],
   "source": [
    "n=int(input(\"enter the time\"))\n",
    "if(n>=4):\n",
    "    print(\"you are dehydrated!Drink water now!\")\n",
    "elif(n>=2 and n<4):\n",
    "    print(\"drink a glass of water\")\n",
    "elif(n<2):\n",
    "    print(\"you're fine\")"
   ]
  },
  {
   "cell_type": "code",
   "execution_count": null,
   "id": "9df1e7c2",
   "metadata": {},
   "outputs": [],
   "source": [
    "List=[10,20,30,40,50]\n",
    "Tuple=(10,20,30,40,50)\n",
    "Set={10,20,30,40,50}\n",
    "print(List,type(List))\n",
    "print(Tuple,type(Tuple))\n",
    "print(Set,type(Set))\n",
    "\n"
   ]
  },
  {
   "cell_type": "code",
   "execution_count": 11,
   "id": "5cf7900a",
   "metadata": {},
   "outputs": [
    {
     "name": "stdout",
     "output_type": "stream",
     "text": [
      "range(0, 10)\n",
      "<class 'range'>\n"
     ]
    }
   ],
   "source": [
    "#range(stop)\n",
    "#range(start,stop)\n",
    "#range(start,stop,stepsize)\n",
    "R1=range(10)\n",
    "print(R1)\n",
    "print(type(R1))"
   ]
  },
  {
   "cell_type": "code",
   "execution_count": 12,
   "id": "9d0de961",
   "metadata": {},
   "outputs": [
    {
     "name": "stdout",
     "output_type": "stream",
     "text": [
      "0\n",
      "1\n",
      "2\n",
      "3\n",
      "4\n",
      "5\n",
      "6\n",
      "7\n",
      "8\n",
      "9\n"
     ]
    }
   ],
   "source": [
    "for i in range(10):\n",
    "    print(i)"
   ]
  },
  {
   "cell_type": "code",
   "execution_count": 13,
   "id": "2788b60e",
   "metadata": {},
   "outputs": [
    {
     "name": "stdout",
     "output_type": "stream",
     "text": [
      "10\n",
      "11\n",
      "12\n",
      "13\n",
      "14\n",
      "15\n",
      "16\n",
      "17\n",
      "18\n",
      "19\n"
     ]
    }
   ],
   "source": [
    "for i in range(10,20):\n",
    "    print(i)"
   ]
  },
  {
   "cell_type": "code",
   "execution_count": 14,
   "id": "ab1f25d5",
   "metadata": {},
   "outputs": [
    {
     "name": "stdout",
     "output_type": "stream",
     "text": [
      "10\n",
      "11\n",
      "12\n",
      "13\n",
      "14\n",
      "15\n"
     ]
    }
   ],
   "source": [
    "for i in range(10,16):\n",
    "    print(i)"
   ]
  },
  {
   "cell_type": "code",
   "execution_count": 15,
   "id": "bfd5b85b",
   "metadata": {},
   "outputs": [
    {
     "name": "stdout",
     "output_type": "stream",
     "text": [
      "11\n",
      "12\n",
      "13\n",
      "14\n",
      "15\n"
     ]
    }
   ],
   "source": [
    "for i in range(11,16):\n",
    "    print(i)"
   ]
  },
  {
   "cell_type": "code",
   "execution_count": 8,
   "id": "bbed6627",
   "metadata": {},
   "outputs": [
    {
     "name": "stdout",
     "output_type": "stream",
     "text": [
      "1\n",
      "3\n",
      "5\n",
      "7\n",
      "9\n"
     ]
    }
   ],
   "source": [
    "for i in range(1,11,2):\n",
    "    print(i)"
   ]
  },
  {
   "cell_type": "code",
   "execution_count": 6,
   "id": "7f5d537f",
   "metadata": {},
   "outputs": [
    {
     "name": "stdout",
     "output_type": "stream",
     "text": [
      "2\n",
      "4\n",
      "6\n",
      "8\n",
      "10\n"
     ]
    }
   ],
   "source": [
    "for i in range(1,11):\n",
    "    if i%2==0:\n",
    "        print(i)\n",
    "    "
   ]
  },
  {
   "cell_type": "code",
   "execution_count": 23,
   "id": "3a29c520",
   "metadata": {},
   "outputs": [
    {
     "name": "stdout",
     "output_type": "stream",
     "text": [
      "enter the user input24\n",
      "Natural Number from 1 to 24:\n",
      "1\n",
      "2\n",
      "3\n",
      "4\n",
      "5\n",
      "6\n",
      "7\n",
      "8\n",
      "9\n",
      "10\n",
      "11\n",
      "12\n",
      "13\n",
      "14\n",
      "15\n",
      "16\n",
      "17\n",
      "18\n",
      "19\n",
      "20\n",
      "21\n",
      "22\n",
      "23\n",
      "24\n"
     ]
    }
   ],
   "source": [
    "#to print the natural numbers 1 to n ,where n is the users input\n",
    "n=int(input(\"enter the user input\"))\n",
    "print(f\"Natural Number from 1 to {n}:\")\n",
    "for i in range(1,n+1):\n",
    "      print(i)"
   ]
  },
  {
   "cell_type": "code",
   "execution_count": 5,
   "id": "3dea8914",
   "metadata": {},
   "outputs": [
    {
     "name": "stdout",
     "output_type": "stream",
     "text": [
      "enter the user input7\n",
      "Natural Number from 1 to 7:\n",
      "7\n",
      "6\n",
      "5\n",
      "4\n",
      "3\n",
      "2\n",
      "1\n"
     ]
    }
   ],
   "source": [
    "# to print natural numbers from n to 1\n",
    "n=int(input(\"enter the user input\"))\n",
    "print(f\"Natural Number from 1 to {n}:\")\n",
    "for i in range(n,0,-1):\n",
    "      print(i)"
   ]
  },
  {
   "cell_type": "code",
   "execution_count": 10,
   "id": "636e2599",
   "metadata": {},
   "outputs": [
    {
     "name": "stdout",
     "output_type": "stream",
     "text": [
      "enter the user input24\n",
      "Even Number from 1 to 24:\n",
      "2\n",
      "4\n",
      "6\n",
      "8\n",
      "10\n",
      "12\n",
      "14\n",
      "16\n",
      "18\n",
      "20\n",
      "22\n",
      "24\n"
     ]
    }
   ],
   "source": [
    "#to print even numbers from 1 to n\n",
    "n=int(input(\"enter the user input\"))\n",
    "print(f\"Even Number from 1 to {n}:\")\n",
    "for i in range(2,n+1,2):\n",
    "      print(i)"
   ]
  },
  {
   "cell_type": "code",
   "execution_count": 14,
   "id": "29f6da96",
   "metadata": {},
   "outputs": [
    {
     "name": "stdout",
     "output_type": "stream",
     "text": [
      "enter the user input24\n",
      "odd Number from 1 to 24:\n",
      "1\n",
      "3\n",
      "5\n",
      "7\n",
      "9\n",
      "11\n",
      "13\n",
      "15\n",
      "17\n",
      "19\n",
      "21\n",
      "23\n"
     ]
    }
   ],
   "source": [
    "#to print the odd numbers from 1 to n\n",
    "n=int(input(\"enter the user input\"))\n",
    "print(f\"odd Number from 1 to {n}:\")\n",
    "for i in range(1,n+1,2):\n",
    "      print(i)"
   ]
  },
  {
   "cell_type": "code",
   "execution_count": 13,
   "id": "d93047ef",
   "metadata": {},
   "outputs": [
    {
     "name": "stdout",
     "output_type": "stream",
     "text": [
      "enter the user input25\n",
      "Natural Number from 1 to 25:\n",
      "24\n",
      "22\n",
      "20\n",
      "18\n",
      "16\n",
      "14\n",
      "12\n",
      "10\n",
      "8\n",
      "6\n",
      "4\n",
      "2\n"
     ]
    }
   ],
   "source": [
    "# to print the even numbers from n to 1\n",
    "n=int(input(\"enter the user input\"))\n",
    "print(f\"Natural Number from 1 to {n}:\")\n",
    "for i in range(n,0,-1):\n",
    "    if(i%2==0):\n",
    "        print(i)"
   ]
  },
  {
   "cell_type": "code",
   "execution_count": 19,
   "id": "9da82275",
   "metadata": {},
   "outputs": [
    {
     "name": "stdout",
     "output_type": "stream",
     "text": [
      "enter the user input24\n",
      "Natural Number from 1 to 24:\n",
      "23\n",
      "21\n",
      "19\n",
      "17\n",
      "15\n",
      "13\n",
      "11\n",
      "9\n",
      "7\n",
      "5\n",
      "3\n",
      "1\n"
     ]
    }
   ],
   "source": [
    "#to  print odd numbers from n to 1\n",
    "n=int(input(\"enter the user input\"))\n",
    "print(f\"Natural Number from 1 to {n}:\")\n",
    "for i in range(n,0,-1):\n",
    "    if(i%2!=0):\n",
    "        print(i)"
   ]
  },
  {
   "cell_type": "code",
   "execution_count": 21,
   "id": "40c0da15",
   "metadata": {},
   "outputs": [
    {
     "name": "stdout",
     "output_type": "stream",
     "text": [
      "enter the value7\n",
      "Multiplication table of 7:\n",
      "7 x 1 = 7\n",
      "7 x 2 = 14\n",
      "7 x 3 = 21\n",
      "7 x 4 = 28\n",
      "7 x 5 = 35\n",
      "7 x 6 = 42\n",
      "7 x 7 = 49\n",
      "7 x 8 = 56\n",
      "7 x 9 = 63\n",
      "7 x 10 = 70\n"
     ]
    }
   ],
   "source": [
    "# to print multiplication table of n\n",
    "n=int(input(\"enter the value\"))\n",
    "print(f\"Multiplication table of {n}:\")\n",
    "for i in range(1,11):\n",
    "    print(f\"{n} x {i} = {n*i}\")"
   ]
  },
  {
   "cell_type": "code",
   "execution_count": 5,
   "id": "19269fcd",
   "metadata": {},
   "outputs": [
    {
     "name": "stdout",
     "output_type": "stream",
     "text": [
      "enter the value12\n",
      "Multiplication table of 12:\n",
      "12 x 12 = 144\n",
      "12 x 11 = 132\n",
      "12 x 10 = 120\n",
      "12 x 9 = 108\n",
      "12 x 8 = 96\n",
      "12 x 7 = 84\n",
      "12 x 6 = 72\n",
      "12 x 5 = 60\n",
      "12 x 4 = 48\n",
      "12 x 3 = 36\n",
      "12 x 2 = 24\n",
      "12 x 1 = 12\n"
     ]
    }
   ],
   "source": [
    "# to print reversed multiplication table of n\n",
    "n=int(input(\"enter the value\"))\n",
    "print(f\"Multiplication table of {n}:\")\n",
    "for i in range(n,0,-1):\n",
    "    print(f\"{n} x {i} = {n*i}\")"
   ]
  },
  {
   "cell_type": "code",
   "execution_count": 7,
   "id": "f47bcd96",
   "metadata": {},
   "outputs": [
    {
     "name": "stdout",
     "output_type": "stream",
     "text": [
      "Enter the value of n: 20\n",
      "\n",
      "Multiplication Table of 1:\n",
      "1 x 1 = 1\n",
      "1 x 2 = 2\n",
      "1 x 3 = 3\n",
      "1 x 4 = 4\n",
      "1 x 5 = 5\n",
      "1 x 6 = 6\n",
      "1 x 7 = 7\n",
      "1 x 8 = 8\n",
      "1 x 9 = 9\n",
      "1 x 10 = 10\n",
      "\n",
      "Multiplication Table of 2:\n",
      "2 x 1 = 2\n",
      "2 x 2 = 4\n",
      "2 x 3 = 6\n",
      "2 x 4 = 8\n",
      "2 x 5 = 10\n",
      "2 x 6 = 12\n",
      "2 x 7 = 14\n",
      "2 x 8 = 16\n",
      "2 x 9 = 18\n",
      "2 x 10 = 20\n",
      "\n",
      "Multiplication Table of 3:\n",
      "3 x 1 = 3\n",
      "3 x 2 = 6\n",
      "3 x 3 = 9\n",
      "3 x 4 = 12\n",
      "3 x 5 = 15\n",
      "3 x 6 = 18\n",
      "3 x 7 = 21\n",
      "3 x 8 = 24\n",
      "3 x 9 = 27\n",
      "3 x 10 = 30\n",
      "\n",
      "Multiplication Table of 4:\n",
      "4 x 1 = 4\n",
      "4 x 2 = 8\n",
      "4 x 3 = 12\n",
      "4 x 4 = 16\n",
      "4 x 5 = 20\n",
      "4 x 6 = 24\n",
      "4 x 7 = 28\n",
      "4 x 8 = 32\n",
      "4 x 9 = 36\n",
      "4 x 10 = 40\n",
      "\n",
      "Multiplication Table of 5:\n",
      "5 x 1 = 5\n",
      "5 x 2 = 10\n",
      "5 x 3 = 15\n",
      "5 x 4 = 20\n",
      "5 x 5 = 25\n",
      "5 x 6 = 30\n",
      "5 x 7 = 35\n",
      "5 x 8 = 40\n",
      "5 x 9 = 45\n",
      "5 x 10 = 50\n",
      "\n",
      "Multiplication Table of 6:\n",
      "6 x 1 = 6\n",
      "6 x 2 = 12\n",
      "6 x 3 = 18\n",
      "6 x 4 = 24\n",
      "6 x 5 = 30\n",
      "6 x 6 = 36\n",
      "6 x 7 = 42\n",
      "6 x 8 = 48\n",
      "6 x 9 = 54\n",
      "6 x 10 = 60\n",
      "\n",
      "Multiplication Table of 7:\n",
      "7 x 1 = 7\n",
      "7 x 2 = 14\n",
      "7 x 3 = 21\n",
      "7 x 4 = 28\n",
      "7 x 5 = 35\n",
      "7 x 6 = 42\n",
      "7 x 7 = 49\n",
      "7 x 8 = 56\n",
      "7 x 9 = 63\n",
      "7 x 10 = 70\n",
      "\n",
      "Multiplication Table of 8:\n",
      "8 x 1 = 8\n",
      "8 x 2 = 16\n",
      "8 x 3 = 24\n",
      "8 x 4 = 32\n",
      "8 x 5 = 40\n",
      "8 x 6 = 48\n",
      "8 x 7 = 56\n",
      "8 x 8 = 64\n",
      "8 x 9 = 72\n",
      "8 x 10 = 80\n",
      "\n",
      "Multiplication Table of 9:\n",
      "9 x 1 = 9\n",
      "9 x 2 = 18\n",
      "9 x 3 = 27\n",
      "9 x 4 = 36\n",
      "9 x 5 = 45\n",
      "9 x 6 = 54\n",
      "9 x 7 = 63\n",
      "9 x 8 = 72\n",
      "9 x 9 = 81\n",
      "9 x 10 = 90\n",
      "\n",
      "Multiplication Table of 10:\n",
      "10 x 1 = 10\n",
      "10 x 2 = 20\n",
      "10 x 3 = 30\n",
      "10 x 4 = 40\n",
      "10 x 5 = 50\n",
      "10 x 6 = 60\n",
      "10 x 7 = 70\n",
      "10 x 8 = 80\n",
      "10 x 9 = 90\n",
      "10 x 10 = 100\n",
      "\n",
      "Multiplication Table of 11:\n",
      "11 x 1 = 11\n",
      "11 x 2 = 22\n",
      "11 x 3 = 33\n",
      "11 x 4 = 44\n",
      "11 x 5 = 55\n",
      "11 x 6 = 66\n",
      "11 x 7 = 77\n",
      "11 x 8 = 88\n",
      "11 x 9 = 99\n",
      "11 x 10 = 110\n",
      "\n",
      "Multiplication Table of 12:\n",
      "12 x 1 = 12\n",
      "12 x 2 = 24\n",
      "12 x 3 = 36\n",
      "12 x 4 = 48\n",
      "12 x 5 = 60\n",
      "12 x 6 = 72\n",
      "12 x 7 = 84\n",
      "12 x 8 = 96\n",
      "12 x 9 = 108\n",
      "12 x 10 = 120\n",
      "\n",
      "Multiplication Table of 13:\n",
      "13 x 1 = 13\n",
      "13 x 2 = 26\n",
      "13 x 3 = 39\n",
      "13 x 4 = 52\n",
      "13 x 5 = 65\n",
      "13 x 6 = 78\n",
      "13 x 7 = 91\n",
      "13 x 8 = 104\n",
      "13 x 9 = 117\n",
      "13 x 10 = 130\n",
      "\n",
      "Multiplication Table of 14:\n",
      "14 x 1 = 14\n",
      "14 x 2 = 28\n",
      "14 x 3 = 42\n",
      "14 x 4 = 56\n",
      "14 x 5 = 70\n",
      "14 x 6 = 84\n",
      "14 x 7 = 98\n",
      "14 x 8 = 112\n",
      "14 x 9 = 126\n",
      "14 x 10 = 140\n",
      "\n",
      "Multiplication Table of 15:\n",
      "15 x 1 = 15\n",
      "15 x 2 = 30\n",
      "15 x 3 = 45\n",
      "15 x 4 = 60\n",
      "15 x 5 = 75\n",
      "15 x 6 = 90\n",
      "15 x 7 = 105\n",
      "15 x 8 = 120\n",
      "15 x 9 = 135\n",
      "15 x 10 = 150\n",
      "\n",
      "Multiplication Table of 16:\n",
      "16 x 1 = 16\n",
      "16 x 2 = 32\n",
      "16 x 3 = 48\n",
      "16 x 4 = 64\n",
      "16 x 5 = 80\n",
      "16 x 6 = 96\n",
      "16 x 7 = 112\n",
      "16 x 8 = 128\n",
      "16 x 9 = 144\n",
      "16 x 10 = 160\n",
      "\n",
      "Multiplication Table of 17:\n",
      "17 x 1 = 17\n",
      "17 x 2 = 34\n",
      "17 x 3 = 51\n",
      "17 x 4 = 68\n",
      "17 x 5 = 85\n",
      "17 x 6 = 102\n",
      "17 x 7 = 119\n",
      "17 x 8 = 136\n",
      "17 x 9 = 153\n",
      "17 x 10 = 170\n",
      "\n",
      "Multiplication Table of 18:\n",
      "18 x 1 = 18\n",
      "18 x 2 = 36\n",
      "18 x 3 = 54\n",
      "18 x 4 = 72\n",
      "18 x 5 = 90\n",
      "18 x 6 = 108\n",
      "18 x 7 = 126\n",
      "18 x 8 = 144\n",
      "18 x 9 = 162\n",
      "18 x 10 = 180\n",
      "\n",
      "Multiplication Table of 19:\n",
      "19 x 1 = 19\n",
      "19 x 2 = 38\n",
      "19 x 3 = 57\n",
      "19 x 4 = 76\n",
      "19 x 5 = 95\n",
      "19 x 6 = 114\n",
      "19 x 7 = 133\n",
      "19 x 8 = 152\n",
      "19 x 9 = 171\n",
      "19 x 10 = 190\n",
      "\n",
      "Multiplication Table of 20:\n",
      "20 x 1 = 20\n",
      "20 x 2 = 40\n",
      "20 x 3 = 60\n",
      "20 x 4 = 80\n",
      "20 x 5 = 100\n",
      "20 x 6 = 120\n",
      "20 x 7 = 140\n",
      "20 x 8 = 160\n",
      "20 x 9 = 180\n",
      "20 x 10 = 200\n"
     ]
    }
   ],
   "source": [
    "# multiplication tables from 1 to n,where n is an integer input from the user\n",
    "\n",
    "n = int(input(\"Enter the value of n: \"))\n",
    "\n",
    "for i in range(1, n+1):   # Loop from 1 to n\n",
    "    print(f\"\\nMultiplication Table of {i}:\")\n",
    "    for j in range(1, 11):   # Loop from 1 to 10\n",
    "        print(f\"{i} x {j} = {i*j}\")\n"
   ]
  },
  {
   "cell_type": "code",
   "execution_count": 9,
   "id": "a2e75c0b",
   "metadata": {},
   "outputs": [
    {
     "name": "stdout",
     "output_type": "stream",
     "text": [
      "enter the bill unit316\n",
      "3160\n"
     ]
    }
   ],
   "source": [
    "# electricity bill\n",
    "n=int(input(\"enter the bill unit\"))\n",
    "if(n<=100):\n",
    "    print(n*5)\n",
    "elif(n>100 and n<=200):\n",
    "    print(n*7)\n",
    "elif(n>200):\n",
    "    print(n*10)\n",
    "\n",
    "    "
   ]
  },
  {
   "cell_type": "code",
   "execution_count": 13,
   "id": "28120d38",
   "metadata": {},
   "outputs": [
    {
     "name": "stdout",
     "output_type": "stream",
     "text": [
      "enter the bill unit87\n",
      "the total bill: 435\n",
      "paid\n"
     ]
    }
   ],
   "source": [
    "n=int(input(\"enter the bill unit\"))\n",
    "if(n<=100):\n",
    "    print(\"the total bill:\",n*5)\n",
    "elif(n>100 and n<=200):\n",
    "    print(\"the total bill:\",n*7)\n",
    "elif(n>200):\n",
    "    print(\"the total bill:\",n*10)\n",
    "print(\"paid\")\n",
    "\n",
    "    "
   ]
  },
  {
   "cell_type": "code",
   "execution_count": 7,
   "id": "288e3a5b",
   "metadata": {},
   "outputs": [
    {
     "name": "stdout",
     "output_type": "stream",
     "text": [
      "enter the cart value600\n",
      "Delivery charge 50 added 650\n"
     ]
    }
   ],
   "source": [
    "value=int(input(\"enter the cart value\"))\n",
    "if(value<=500):\n",
    "    print(\"free delivery applied\")\n",
    "elif(value>500):\n",
    "    print(\"Delivery charge 50 added\",value+50)"
   ]
  },
  {
   "cell_type": "code",
   "execution_count": 12,
   "id": "0bdaa109",
   "metadata": {},
   "outputs": [
    {
     "name": "stdout",
     "output_type": "stream",
     "text": [
      "enter the weight:32\n",
      "obese\n"
     ]
    }
   ],
   "source": [
    "#Fitness IBM checker\n",
    "BMI=int(input(\"enter the weight:\"))\n",
    "if(BMI<18.5):\n",
    "    print(\"underweight\")\n",
    "elif(BMI>=18.5 and BMI<25):\n",
    "    print(\"Normal weight\")\n",
    "elif(BMI>=25 and BMI<=30):\n",
    "    print(\"overweight\")\n",
    "else:\n",
    "    print(\"obese\")"
   ]
  },
  {
   "cell_type": "code",
   "execution_count": 13,
   "id": "9352cb94",
   "metadata": {},
   "outputs": [
    {
     "name": "stdout",
     "output_type": "stream",
     "text": [
      "enter the salary:34000\n",
      "enter the credit score:800\n",
      "eligible\n"
     ]
    }
   ],
   "source": [
    "#loan eligibility\n",
    "salary=int(input(\"enter the salary:\"))\n",
    "credit=int(input(\"enter the credit score:\"))\n",
    "if(salary>=30000 and credit>=700):\n",
    "    print(\"eligible\")\n",
    "else:\n",
    "    print(\"not eligible\")"
   ]
  },
  {
   "cell_type": "code",
   "execution_count": 1,
   "id": "5d2c5870",
   "metadata": {},
   "outputs": [
    {
     "name": "stdout",
     "output_type": "stream",
     "text": [
      "enter the salary:30000\n",
      "enter the credit score:700\n",
      "eligible\n",
      "eligible\n"
     ]
    }
   ],
   "source": [
    "salary=int(input(\"enter the salary:\"))\n",
    "credit=int(input(\"enter the credit score:\"))\n",
    "if(salary>=30000 and credit>=700):\n",
    "    print(\"eligible\")\n",
    "else:\n",
    "    print(\"not eligible\")\n",
    "    \n",
    "res=\"eligible\" if(salary>=30000 and credit>=700) else \"not eligible\"\n",
    "print(res)"
   ]
  },
  {
   "cell_type": "code",
   "execution_count": 15,
   "id": "af715b33",
   "metadata": {
    "scrolled": true
   },
   "outputs": [
    {
     "name": "stdout",
     "output_type": "stream",
     "text": [
      "enter the salary:30000\n",
      "enter the credit score:500\n",
      "eligible\n"
     ]
    }
   ],
   "source": [
    "salary=int(input(\"enter the salary:\"))\n",
    "credit=int(input(\"enter the credit score:\"))\n",
    "if(salary>=30000 or credit>=700):\n",
    "    print(\"eligible\")\n",
    "else:\n",
    "    print(\"not eligible\")"
   ]
  },
  {
   "cell_type": "code",
   "execution_count": 19,
   "id": "300dea56",
   "metadata": {},
   "outputs": [
    {
     "name": "stdout",
     "output_type": "stream",
     "text": [
      "enter the temperature37\n",
      "hot weather\n"
     ]
    }
   ],
   "source": [
    "# Temperature Alert System\n",
    "n=int(input(\"enter the temperature\"))\n",
    "if(n<0):\n",
    "    print(\"freezing weather\")\n",
    "elif(n>0 and n<=20):\n",
    "    print(\"cold weather\")\n",
    "elif(n>21 and n<=35):\n",
    "    print(\"normal weather\")\n",
    "else:\n",
    "    print(\"hot weather\")"
   ]
  },
  {
   "cell_type": "code",
   "execution_count": 3,
   "id": "6fddd3db",
   "metadata": {},
   "outputs": [
    {
     "name": "stdout",
     "output_type": "stream",
     "text": [
      "to check the balance50\n",
      "low data warning\n"
     ]
    }
   ],
   "source": [
    "# mobile data balance checker\n",
    "bal=int(input(\"to check the balance\"))\n",
    "if(bal==0):\n",
    "    print(\"recharge required\")\n",
    "elif(bal>=0 and bal<=100):\n",
    "    print(\"low data warning\")\n",
    "else:\n",
    "    print(\"sufficient data available\")\n",
    "\n"
   ]
  },
  {
   "cell_type": "code",
   "execution_count": 4,
   "id": "c3a255a9",
   "metadata": {},
   "outputs": [
    {
     "name": "stdout",
     "output_type": "stream",
     "text": [
      "enter the age60\n",
      "30% senior citizen discount\n"
     ]
    }
   ],
   "source": [
    "#train ticket concession\n",
    "age=int(input(\"enter the age\"))\n",
    "if(age<5):\n",
    "    print(\"free\")\n",
    "elif(age>5 and age<12):\n",
    "    print(\"half ticket\")\n",
    "elif(age>13 and age<59):\n",
    "    print(\"full ticket\")\n",
    "else:\n",
    "    print(\"30% senior citizen discount\")"
   ]
  },
  {
   "cell_type": "code",
   "execution_count": 6,
   "id": "eb22a2ac",
   "metadata": {},
   "outputs": [
    {
     "name": "stdout",
     "output_type": "stream",
     "text": [
      "enter the age60\n",
      "enter amount200\n",
      "30% senior citizen discount -185.0\n"
     ]
    }
   ],
   "source": [
    "age=int(input(\"enter the age\"))\n",
    "amo=int(input(\"enter amount\"))\n",
    "if(age<5):\n",
    "    print(\"free\")\n",
    "elif(age>5 and age<12):\n",
    "    print(\"half ticket\")\n",
    "elif(age>13 and age<59):\n",
    "    print(\"full ticket\")\n",
    "else:\n",
    "    print(\"30% senior citizen discount\",30/amo*100-amo)"
   ]
  },
  {
   "cell_type": "code",
   "execution_count": null,
   "id": "260b6ba0",
   "metadata": {},
   "outputs": [],
   "source": []
  }
 ],
 "metadata": {
  "kernelspec": {
   "display_name": "Python 3 (ipykernel)",
   "language": "python",
   "name": "python3"
  },
  "language_info": {
   "codemirror_mode": {
    "name": "ipython",
    "version": 3
   },
   "file_extension": ".py",
   "mimetype": "text/x-python",
   "name": "python",
   "nbconvert_exporter": "python",
   "pygments_lexer": "ipython3",
   "version": "3.9.7"
  }
 },
 "nbformat": 4,
 "nbformat_minor": 5
}
