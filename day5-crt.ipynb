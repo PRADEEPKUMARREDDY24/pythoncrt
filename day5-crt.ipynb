{
 "cells": [
  {
   "cell_type": "code",
   "execution_count": 1,
   "id": "ce052a09",
   "metadata": {},
   "outputs": [
    {
     "name": "stdout",
     "output_type": "stream",
     "text": [
      "enter your name :sunny reddy\n",
      " length of name : 11\n",
      "more than 5 characters\n"
     ]
    }
   ],
   "source": [
    "# to print the length name\n",
    "name=input(\"enter your name :\")\n",
    "print(\" length of name :\",len(name))\n",
    "res=\"more than 5 characters\" if(len(name)>5) else \"not a more than 5 characters\"\n",
    "print(res)"
   ]
  },
  {
   "cell_type": "code",
   "execution_count": null,
   "id": "e5e1702f",
   "metadata": {},
   "outputs": [],
   "source": [
    "name=int(input(\"enter your name :\"))\n",
    "print(\"length of name :\",len(name))\n"
   ]
  },
  {
   "cell_type": "code",
   "execution_count": 3,
   "id": "a313161f",
   "metadata": {},
   "outputs": [
    {
     "name": "stdout",
     "output_type": "stream",
     "text": [
      "enter your name :pradeep reddy\n",
      " length of name : 13\n",
      "no character\n"
     ]
    }
   ],
   "source": [
    "#write the python program to check,if the user enterd name has the character A or not\n",
    "name=input(\"enter your name :\")\n",
    "print(\" length of name :\",len(name))\n",
    "if name.isalpha():\n",
    "    print(\"character\")\n",
    "else:\n",
    "    print(\"no character\")"
   ]
  },
  {
   "cell_type": "code",
   "execution_count": 1,
   "id": "291734c4",
   "metadata": {},
   "outputs": [
    {
     "name": "stdout",
     "output_type": "stream",
     "text": [
      "enter the string@sunny_reddy24\n",
      "count of alphabetic characters is 10\n",
      "count of digit is 2\n",
      "count of specialcharacters is 2\n"
     ]
    }
   ],
   "source": [
    "# to check how many alaphabets,digits and how many special cahracter in the user entered string\n",
    "string=input(\"enter the string\")\n",
    "alphabet,digit,specialchar=0,0,0\n",
    "for ch in string:\n",
    "    if ch.isalpha():\n",
    "        alphabet+=1\n",
    "    elif ch.isdigit():\n",
    "        digit+=1\n",
    "    else:\n",
    "        specialchar+=1\n",
    "print(f\"count of alphabetic characters is {alphabet}\")\n",
    "print(f\"count of digit is {digit}\")\n",
    "print(f\"count of specialcharacters is {specialchar}\")"
   ]
  },
  {
   "cell_type": "code",
   "execution_count": 2,
   "id": "b16c1c31",
   "metadata": {},
   "outputs": [
    {
     "name": "stdout",
     "output_type": "stream",
     "text": [
      "enter the string :pradeepreddy\n",
      "vowel count is 2\n",
      "consonant count is 8\n"
     ]
    }
   ],
   "source": [
    "# to check the counts of vowels and consonant\n",
    "sring=input(\"enter the string :\").lower()\n",
    "vowel,consonant=0,0\n",
    "for ch in string:\n",
    "    if ch.isalpha():\n",
    "        if ch in  \"aeiou\":\n",
    "            vowel+=1\n",
    "        else:\n",
    "            consonant+=1\n",
    "print(f\"vowel count is {vowel}\")\n",
    "print(f\"consonant count is {consonant}\")"
   ]
  },
  {
   "cell_type": "code",
   "execution_count": 4,
   "id": "0b6dd46f",
   "metadata": {},
   "outputs": [
    {
     "name": "stdout",
     "output_type": "stream",
     "text": [
      "enter the aadhar number :640547343525\n",
      "********3525\n"
     ]
    }
   ],
   "source": [
    "# to read ur 12 digit aadhar as a input from the user.and print 12 digit number first 8 digits are hidden and last 4 digits are shown\n",
    "num=input(\"enter the aadhar number :\")\n",
    "if(len(num)==12):\n",
    "    print(\"********\" + num[8:12])\n",
    "else:\n",
    "    print(\"invalid\")"
   ]
  },
  {
   "cell_type": "code",
   "execution_count": 16,
   "id": "ae95ead0",
   "metadata": {},
   "outputs": [
    {
     "name": "stdout",
     "output_type": "stream",
     "text": [
      "17\n",
      "python\n",
      "thon\n",
      "ptopormig\n",
      "yhnrgamn\n",
      "program\n"
     ]
    }
   ],
   "source": [
    "str=\"pythonprogramming\"\n",
    "print(len(str))\n",
    "print(str[:6])\n",
    "print(str[2:6])\n",
    "print(str[:17:2])\n",
    "print(str[1:17:2])\n",
    "print(str[6:13])"
   ]
  },
  {
   "cell_type": "code",
   "execution_count": 1,
   "id": "7e0cb2ba",
   "metadata": {},
   "outputs": [
    {
     "name": "stdout",
     "output_type": "stream",
     "text": [
      "enter the aadhar number :640547343525\n",
      "********3525\n"
     ]
    }
   ],
   "source": [
    "num=input(\"enter the aadhar number :\")\n",
    "if(len(num)==12):\n",
    "    print(\"********\" + num[8:12])\n",
    "else:\n",
    "    print(\"invalid\")"
   ]
  },
  {
   "cell_type": "code",
   "execution_count": 2,
   "id": "41923fa5",
   "metadata": {},
   "outputs": [
    {
     "name": "stdout",
     "output_type": "stream",
     "text": [
      "(10, 20, 30, 40, 50, 60)\n",
      "<class 'tuple'>\n"
     ]
    }
   ],
   "source": [
    "#TUPLE PACKING\n",
    "num=10,20,30,40,50,60\n",
    "print(num)\n",
    "print(type(num))"
   ]
  },
  {
   "cell_type": "code",
   "execution_count": 3,
   "id": "3061ae2d",
   "metadata": {},
   "outputs": [
    {
     "name": "stdout",
     "output_type": "stream",
     "text": [
      "10\n",
      "20\n",
      "30\n",
      "<class 'tuple'>\n"
     ]
    }
   ],
   "source": [
    "#tuple unpacking\n",
    "a,b,c,d,e,f=num\n",
    "print(a)\n",
    "print(b)\n",
    "print(c)\n",
    "print(type(num))"
   ]
  },
  {
   "cell_type": "code",
   "execution_count": 3,
   "id": "02367e0d",
   "metadata": {},
   "outputs": [
    {
     "name": "stdout",
     "output_type": "stream",
     "text": [
      "enter the value of 1st integer :24\n",
      "enter the value of 2st integer :12\n",
      "A=24\n",
      "B=12\n",
      "swapping...\n",
      "12\n",
      "24\n"
     ]
    }
   ],
   "source": [
    "# tp read two integer values from the user and swap the values of the two integers 1.using arthemtic operation 2.using the third variable 3.without using third variable\n",
    "a=int(input(\"enter the value of 1st integer :\"))\n",
    "b=int(input(\"enter the value of 2st integer :\"))\n",
    "print(f\"A={a}\")\n",
    "print(f\"B={b}\")\n",
    "#using arthmetic operations\n",
    "a=a+b\n",
    "b=a-b\n",
    "a=a-b\n",
    "print(f\"swapping...\")\n",
    "print(a)\n",
    "print(b)\n"
   ]
  },
  {
   "cell_type": "code",
   "execution_count": 4,
   "id": "aadc8e95",
   "metadata": {},
   "outputs": [
    {
     "name": "stdout",
     "output_type": "stream",
     "text": [
      "enter the value of 1st integer :10\n",
      "enter the value of 2st integer :24\n",
      "A=10\n",
      "B=24\n",
      "swapping...\n",
      "24\n",
      "10\n"
     ]
    }
   ],
   "source": [
    "a=int(input(\"enter the value of 1st integer :\"))\n",
    "b=int(input(\"enter the value of 2st integer :\"))\n",
    "print(f\"A={a}\")\n",
    "print(f\"B={b}\")\n",
    "# using third variable\n",
    "temp=a\n",
    "a=b\n",
    "b=temp\n",
    "print(f\"swapping...\")\n",
    "print(a)\n",
    "print(b)\n"
   ]
  },
  {
   "cell_type": "code",
   "execution_count": 6,
   "id": "33c8f135",
   "metadata": {},
   "outputs": [
    {
     "name": "stdout",
     "output_type": "stream",
     "text": [
      "enter the value of 1st integer :12\n",
      "enter the value of 2st integer :34\n",
      "A=12\n",
      "B=34\n",
      "swapping...\n",
      "34\n",
      "12\n"
     ]
    }
   ],
   "source": [
    "a=int(input(\"enter the value of 1st integer :\"))\n",
    "b=int(input(\"enter the value of 2st integer :\"))\n",
    "print(f\"A={a}\")\n",
    "print(f\"B={b}\")\n",
    "#without using the third  variable\n",
    "a,b=b,a\n",
    "print(f\"swapping...\")\n",
    "print(a)\n",
    "print(b)\n"
   ]
  },
  {
   "cell_type": "code",
   "execution_count": 10,
   "id": "7df0f213",
   "metadata": {},
   "outputs": [
    {
     "name": "stdout",
     "output_type": "stream",
     "text": [
      "enter the integer value :24\n",
      "24 is not a prime number\n"
     ]
    }
   ],
   "source": [
    "# to check whether the user entered integer is prime or not\n",
    "num=int(input(\"enter the integer value :\"))\n",
    "factor=0\n",
    "for i in range(1,num+1):\n",
    "    if(num%1==0):\n",
    "        factor+=1\n",
    "res=\"Prime number\" if(factor==2) else \"not a prime number\"\n",
    "print(f\"{num} is {res}\")\n"
   ]
  },
  {
   "cell_type": "code",
   "execution_count": 15,
   "id": "c74008bc",
   "metadata": {},
   "outputs": [
    {
     "ename": "SyntaxError",
     "evalue": "invalid syntax (Temp/ipykernel_9424/1511723482.py, line 10)",
     "output_type": "error",
     "traceback": [
      "\u001b[1;36m  File \u001b[1;32m\"C:\\Users\\reddy\\AppData\\Local\\Temp/ipykernel_9424/1511723482.py\"\u001b[1;36m, line \u001b[1;32m10\u001b[0m\n\u001b[1;33m    if\u001b[0m\n\u001b[1;37m      ^\u001b[0m\n\u001b[1;31mSyntaxError\u001b[0m\u001b[1;31m:\u001b[0m invalid syntax\n"
     ]
    }
   ],
   "source": [
    "# to read an integer value as input from the user and check wheather it is a prime palindrome or not\n",
    "a=int(input(\"enter the value of n :\"))\n",
    "factor=2\n",
    "temp=a\n",
    "print(f\"user entered number is {n}\")\n",
    "while(n!=0):\n",
    "    rem=n%10\n",
    "    rev=rev*10+rem\n",
    "    n=n//10\n",
    "if"
   ]
  },
  {
   "cell_type": "code",
   "execution_count": 17,
   "id": "e90f100c",
   "metadata": {},
   "outputs": [
    {
     "name": "stdout",
     "output_type": "stream",
     "text": [
      "enter the 1st integer :24\n",
      "enter the 2nd integer :34\n",
      "summation :58\n"
     ]
    }
   ],
   "source": [
    "# to read two integer values as input from the user add perform addition without using addition operator and built in function\n",
    "a=int(input(\"enter the 1st integer :\"))\n",
    "b=int(input(\"enter the 2nd integer :\"))\n",
    "sum=a-(-b)\n",
    "print(f\"summation :{sum}\")\n"
   ]
  },
  {
   "cell_type": "code",
   "execution_count": 16,
   "id": "769f8f1a",
   "metadata": {},
   "outputs": [
    {
     "name": "stdout",
     "output_type": "stream",
     "text": [
      "2\n"
     ]
    }
   ],
   "source": [
    "a=2\n",
    "b=3\n",
    "print(a&b)"
   ]
  },
  {
   "cell_type": "code",
   "execution_count": 20,
   "id": "9b3d6a70",
   "metadata": {},
   "outputs": [
    {
     "name": "stdout",
     "output_type": "stream",
     "text": [
      "101\n",
      "111\n",
      "121\n",
      "131\n",
      "141\n",
      "151\n",
      "161\n",
      "171\n",
      "181\n",
      "191\n",
      "202\n",
      "212\n",
      "222\n",
      "232\n",
      "242\n",
      "252\n",
      "262\n",
      "272\n",
      "282\n",
      "292\n",
      "303\n",
      "313\n",
      "323\n",
      "333\n",
      "343\n",
      "353\n",
      "363\n",
      "373\n",
      "383\n",
      "393\n",
      "404\n",
      "414\n",
      "424\n",
      "434\n",
      "444\n",
      "454\n",
      "464\n",
      "474\n",
      "484\n",
      "494\n",
      "505\n",
      "515\n",
      "525\n",
      "535\n",
      "545\n",
      "555\n",
      "565\n",
      "575\n",
      "585\n",
      "595\n",
      "606\n",
      "616\n",
      "626\n",
      "636\n",
      "646\n",
      "656\n",
      "666\n",
      "676\n",
      "686\n",
      "696\n",
      "707\n",
      "717\n",
      "727\n",
      "737\n",
      "747\n",
      "757\n",
      "767\n",
      "777\n",
      "787\n",
      "797\n",
      "808\n",
      "818\n",
      "828\n",
      "838\n",
      "848\n",
      "858\n",
      "868\n",
      "878\n",
      "888\n",
      "898\n",
      "909\n",
      "919\n",
      "929\n",
      "939\n",
      "949\n",
      "959\n",
      "969\n",
      "979\n",
      "989\n",
      "999\n",
      "90\n"
     ]
    }
   ],
   "source": [
    "# to print all 3 digit palindrome numbers\n",
    "n=0\n",
    "for i in range(100,1000,1):\n",
    "    if(str(i)==str(i)[::-1]):\n",
    "        print(i)\n",
    "        n=n+1\n",
    "print(n)\n"
   ]
  },
  {
   "cell_type": "code",
   "execution_count": 17,
   "id": "34bf661a",
   "metadata": {},
   "outputs": [
    {
     "name": "stdout",
     "output_type": "stream",
     "text": [
      "101\n",
      "111\n",
      "121\n",
      "131\n",
      "141\n",
      "151\n",
      "161\n",
      "171\n",
      "181\n",
      "191\n",
      "202\n",
      "212\n",
      "222\n",
      "232\n",
      "242\n",
      "252\n",
      "262\n",
      "272\n",
      "282\n",
      "292\n",
      "303\n",
      "313\n",
      "323\n",
      "333\n",
      "343\n",
      "353\n",
      "363\n",
      "373\n",
      "383\n",
      "393\n",
      "404\n",
      "414\n",
      "424\n",
      "434\n",
      "444\n",
      "454\n",
      "464\n",
      "474\n",
      "484\n",
      "494\n",
      "505\n",
      "515\n",
      "525\n",
      "535\n",
      "545\n",
      "555\n",
      "565\n",
      "575\n",
      "585\n",
      "595\n",
      "606\n",
      "616\n",
      "626\n",
      "636\n",
      "646\n",
      "656\n",
      "666\n",
      "676\n",
      "686\n",
      "696\n",
      "707\n",
      "717\n",
      "727\n",
      "737\n",
      "747\n",
      "757\n",
      "767\n",
      "777\n",
      "787\n",
      "797\n",
      "808\n",
      "818\n",
      "828\n",
      "838\n",
      "848\n",
      "858\n",
      "868\n",
      "878\n",
      "888\n",
      "898\n",
      "909\n",
      "919\n",
      "929\n",
      "939\n",
      "949\n",
      "959\n",
      "969\n",
      "979\n",
      "989\n",
      "999\n"
     ]
    }
   ],
   "source": [
    "for i in range(1,10):\n",
    "    for j in range(0,10):\n",
    "        print(f\"{i}{j}{i}\")"
   ]
  },
  {
   "cell_type": "code",
   "execution_count": null,
   "id": "184c2634",
   "metadata": {},
   "outputs": [],
   "source": [
    "# to print is user entered year leap year or not\n",
    "# to print the next 25 leap years from the user eneterd year"
   ]
  },
  {
   "cell_type": "code",
   "execution_count": 16,
   "id": "644c89c4",
   "metadata": {},
   "outputs": [
    {
     "name": "stdout",
     "output_type": "stream",
     "text": [
      "Enter a year: 2000\n",
      "2000 is a Leap Year\n"
     ]
    }
   ],
   "source": [
    "# to print is user entered year leap year or not\n",
    "year = int(input(\"Enter a year: \"))\n",
    "\n",
    "if (year % 400 == 0) or (year % 4 == 0 and year % 100 != 0):\n",
    "    print(f\"{year} is a Leap Year\")\n",
    "else:\n",
    "    print(f\"{year} is Not a Leap Year\")\n"
   ]
  },
  {
   "cell_type": "code",
   "execution_count": 34,
   "id": "471447c9",
   "metadata": {},
   "outputs": [
    {
     "name": "stdout",
     "output_type": "stream",
     "text": [
      "Enter a years: 2000\n",
      "2000\n"
     ]
    },
    {
     "ename": "TypeError",
     "evalue": "'int' object is not iterable",
     "output_type": "error",
     "traceback": [
      "\u001b[1;31m---------------------------------------------------------------------------\u001b[0m",
      "\u001b[1;31mTypeError\u001b[0m                                 Traceback (most recent call last)",
      "\u001b[1;32m~\\AppData\\Local\\Temp/ipykernel_19280/3134512926.py\u001b[0m in \u001b[0;36m<module>\u001b[1;34m\u001b[0m\n\u001b[0;32m      6\u001b[0m \u001b[1;33m\u001b[0m\u001b[0m\n\u001b[0;32m      7\u001b[0m         \u001b[0mcount\u001b[0m \u001b[1;33m+=\u001b[0m \u001b[1;36m1\u001b[0m\u001b[1;33m\u001b[0m\u001b[1;33m\u001b[0m\u001b[0m\n\u001b[1;32m----> 8\u001b[1;33m     \u001b[0myears\u001b[0m \u001b[1;33m+=\u001b[0m \u001b[1;36m1\u001b[0m\u001b[1;33m\u001b[0m\u001b[1;33m\u001b[0m\u001b[0m\n\u001b[0m\u001b[0;32m      9\u001b[0m \u001b[1;33m\u001b[0m\u001b[0m\n\u001b[0;32m     10\u001b[0m \u001b[1;33m\u001b[0m\u001b[0m\n",
      "\u001b[1;31mTypeError\u001b[0m: 'int' object is not iterable"
     ]
    }
   ],
   "source": [
    "year = int(input(\"Enter a years: \"))\n",
    "count=0\n",
    "while count<25:\n",
    "    if (year % 400 == 0) or (year % 4 == 0 and year % 100 != 0):\n",
    "        print(year)\n",
    "        count += 1\n",
    "    years += 1\n",
    "        \n",
    "        \n",
    "    "
   ]
  },
  {
   "cell_type": "code",
   "execution_count": 31,
   "id": "313e26ab",
   "metadata": {},
   "outputs": [
    {
     "name": "stdout",
     "output_type": "stream",
     "text": [
      "Enter a starting year: 2000\n",
      "Next 25 Leap Years:\n",
      "2000\n",
      "2004\n",
      "2008\n",
      "2012\n",
      "2016\n",
      "2020\n",
      "2024\n",
      "2028\n",
      "2032\n",
      "2036\n",
      "2040\n",
      "2044\n",
      "2048\n",
      "2052\n",
      "2056\n",
      "2060\n",
      "2064\n",
      "2068\n",
      "2072\n",
      "2076\n",
      "2080\n",
      "2084\n",
      "2088\n",
      "2092\n",
      "2096\n"
     ]
    }
   ],
   "source": [
    "year = int(input(\"Enter a starting year: \"))\n",
    "\n",
    "count = 0\n",
    "print(\"Next 25 Leap Years:\")\n",
    "\n",
    "while count < 25:\n",
    "    if (year % 400 == 0) or (year % 4 == 0 and year % 100 != 0):\n",
    "        print(year)\n",
    "        count += 1\n",
    "    year += 1\n"
   ]
  },
  {
   "cell_type": "code",
   "execution_count": null,
   "id": "14e883cd",
   "metadata": {},
   "outputs": [],
   "source": []
  }
 ],
 "metadata": {
  "kernelspec": {
   "display_name": "Python 3 (ipykernel)",
   "language": "python",
   "name": "python3"
  },
  "language_info": {
   "codemirror_mode": {
    "name": "ipython",
    "version": 3
   },
   "file_extension": ".py",
   "mimetype": "text/x-python",
   "name": "python",
   "nbconvert_exporter": "python",
   "pygments_lexer": "ipython3",
   "version": "3.9.7"
  }
 },
 "nbformat": 4,
 "nbformat_minor": 5
}
