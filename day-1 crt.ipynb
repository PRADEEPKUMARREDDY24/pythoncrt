{
 "cells": [
  {
   "cell_type": "code",
   "execution_count": 5,
   "id": "0a95c6db",
   "metadata": {},
   "outputs": [
    {
     "name": "stdout",
     "output_type": "stream",
     "text": [
      "enter the first number24\n",
      "enter the second number65\n",
      "summation:89\n"
     ]
    }
   ],
   "source": [
    "num1=int(input(\"enter the first number\"))\n",
    "num2=int(input(\"enter the second number\"))\n",
    "print(f\"summation:{num1+num2}\")"
   ]
  },
  {
   "cell_type": "code",
   "execution_count": 4,
   "id": "dffbefcf",
   "metadata": {},
   "outputs": [
    {
     "name": "stdout",
     "output_type": "stream",
     "text": [
      "enter the first number24\n",
      "enter the second number34\n",
      "58\n"
     ]
    }
   ],
   "source": [
    "num1=int(input(\"enter the first number\"))\n",
    "num2=int(input(\"enter the second number\"))\n",
    "num=num1+num2\n",
    "print(num)"
   ]
  },
  {
   "cell_type": "markdown",
   "id": "6b8d10d6",
   "metadata": {},
   "source": [
    "## num=int(input(\"enter the first number\"))\n",
    "if(num<=1 and num>=12):\n",
    "    print(\"month\")\n",
    "else:\n",
    "    print(\"not\")"
   ]
  },
  {
   "cell_type": "code",
   "execution_count": 3,
   "id": "b103ead7",
   "metadata": {},
   "outputs": [
    {
     "name": "stdout",
     "output_type": "stream",
     "text": [
      "enter the month3\n",
      "month\n"
     ]
    }
   ],
   "source": [
    "num=int(input(\"enter the month\"))\n",
    "if(num>=1 and num<=12):\n",
    "    print(\"month\")\n",
    "else:\n",
    "    print(\"not\")"
   ]
  },
  {
   "cell_type": "code",
   "execution_count": null,
   "id": "afcabb0e",
   "metadata": {},
   "outputs": [],
   "source": [
    "# write a python program to read an integer value.wheather it is digit or number\n",
    "num=int(input(\"enter the integer:\"))\n",
    "#if-else\n",
    "if(num>=-9 and num<=9):\n",
    "    print(\"digit\")\n",
    "else:\n",
    "    print(\"number\")"
   ]
  },
  {
   "cell_type": "code",
   "execution_count": 7,
   "id": "f58cb18b",
   "metadata": {},
   "outputs": [
    {
     "name": "stdout",
     "output_type": "stream",
     "text": [
      "number\n"
     ]
    }
   ],
   "source": [
    "#ternary operator\n",
    "res='digit' if (num>=-9 and num<=9) else \"number\"\n",
    "print(res)"
   ]
  },
  {
   "cell_type": "code",
   "execution_count": 2,
   "id": "2fe825ef",
   "metadata": {},
   "outputs": [
    {
     "name": "stdout",
     "output_type": "stream",
     "text": [
      "enter the integer:34\n",
      "two digit number\n"
     ]
    }
   ],
   "source": [
    "# write a py. prog. to read an integer from user and check wheather it is two digit or not 2 digit number\n",
    "num=int(input(\"enter the integer:\"))\n",
    "#if-else\n",
    "if(num>=10 and num<=99) or (num>=-99 and num<=-10):\n",
    "    print(\"two digit number\")\n",
    "else:\n",
    "    print(\"not a two digit number\")"
   ]
  },
  {
   "cell_type": "code",
   "execution_count": 3,
   "id": "9a02a59b",
   "metadata": {},
   "outputs": [
    {
     "name": "stdout",
     "output_type": "stream",
     "text": [
      "enter the integer:100\n",
      "not a two digit number\n"
     ]
    }
   ],
   "source": [
    "num=int(input(\"enter the integer:\"))\n",
    "#if-else\n",
    "if(num>=10 and num<=99) or (num>=-99 and num<=-10):\n",
    "    print(\"two digit number\")\n",
    "else:\n",
    "    print(\"not a two digit number\")\n",
    "    "
   ]
  },
  {
   "cell_type": "code",
   "execution_count": 5,
   "id": "9b7b350e",
   "metadata": {},
   "outputs": [
    {
     "name": "stdout",
     "output_type": "stream",
     "text": [
      "enter the integer:24\n",
      "two digit number\n"
     ]
    }
   ],
   "source": [
    "num=int(input(\"enter the integer:\"))\n",
    "#if-else\n",
    "if(num>=10 and num<=99) :\n",
    "    print(\"two digit number\")\n",
    "else:\n",
    "    print(\"not a two digit number\")"
   ]
  },
  {
   "cell_type": "code",
   "execution_count": 6,
   "id": "eb3e16d6",
   "metadata": {},
   "outputs": [
    {
     "name": "stdout",
     "output_type": "stream",
     "text": [
      "enter the integer:-24\n",
      "not a two digit number\n"
     ]
    }
   ],
   "source": [
    "num=int(input(\"enter the integer:\"))\n",
    "#if-else\n",
    "if(num>=10 and num<=99) :\n",
    "    print(\"two digit number\")\n",
    "else:\n",
    "    print(\"not a two digit number\")"
   ]
  },
  {
   "cell_type": "code",
   "execution_count": 1,
   "id": "ecb889bc",
   "metadata": {},
   "outputs": [
    {
     "name": "stdout",
     "output_type": "stream",
     "text": [
      "enter the integer:354\n",
      "not a two digit number\n"
     ]
    }
   ],
   "source": [
    "num=int(input(\"enter the integer:\"))\n",
    "res=' two digit number' if(num>=10 and num<=99) or (num>=-99 and num<=-10) else \"not a two digit number\"\n",
    "print(res)"
   ]
  },
  {
   "cell_type": "code",
   "execution_count": 9,
   "id": "fb064e72",
   "metadata": {},
   "outputs": [
    {
     "name": "stdout",
     "output_type": "stream",
     "text": [
      "enter the integer:245\n",
      "three digit number\n"
     ]
    }
   ],
   "source": [
    "#write a python program to read an integer as input from the user& check whether it is a three digit number or not\n",
    "num=int(input(\"enter the integer:\"))\n",
    "#if-else\n",
    "if(num>=100 and num<=999) or (num>=-999 and num<=-100):\n",
    "    print(\"three digit number\")\n",
    "else:\n",
    "    print(\"not a three digit number\")\n"
   ]
  },
  {
   "cell_type": "code",
   "execution_count": 10,
   "id": "6bfd22f2",
   "metadata": {},
   "outputs": [
    {
     "name": "stdout",
     "output_type": "stream",
     "text": [
      "enter the integer:-24\n",
      "not a three digit number\n"
     ]
    }
   ],
   "source": [
    "#write a python program to read an integer as input from the user& check whether it is a three digit number or not\n",
    "num=int(input(\"enter the integer:\"))\n",
    "#if-else\n",
    "if(num>=100 and num<=999) or (num>=-999 and num<=-100):\n",
    "    print(\"three digit number\")\n",
    "else:\n",
    "    print(\"not a three digit number\")\n"
   ]
  },
  {
   "cell_type": "code",
   "execution_count": 2,
   "id": "defd4da4",
   "metadata": {},
   "outputs": [
    {
     "name": "stdout",
     "output_type": "stream",
     "text": [
      "enter the integer:2345\n",
      "four digit number\n"
     ]
    }
   ],
   "source": [
    "#write a python program to read an integer as input from the user& check whether it is a four\n",
    "num=int(input(\"enter the integer:\"))\n",
    "#if-else\n",
    "if(num>=1000 and num<=9999) or (num>=-9999 and num<=-1000):\n",
    "    print(\"four digit number\")\n",
    "else:\n",
    "    print(\"not a four digit number\")\n"
   ]
  },
  {
   "cell_type": "code",
   "execution_count": 3,
   "id": "09d25ac9",
   "metadata": {},
   "outputs": [
    {
     "name": "stdout",
     "output_type": "stream",
     "text": [
      "enter the integer:234\n",
      "not a four digit number\n"
     ]
    }
   ],
   "source": [
    "num=int(input(\"enter the integer:\"))\n",
    "#if-else\n",
    "if(num>=1000 and num<=9999) or (num>=-9999 and num<=-1000):\n",
    "    print(\"four digit number\")\n",
    "else:\n",
    "    print(\"not a four digit number\")\n"
   ]
  },
  {
   "cell_type": "code",
   "execution_count": 9,
   "id": "7ecf49a1",
   "metadata": {},
   "outputs": [
    {
     "name": "stdout",
     "output_type": "stream",
     "text": [
      "enter the integer 1:24\n",
      "enter the integer 2:54\n",
      "54 is largest number.\n"
     ]
    }
   ],
   "source": [
    "#write the python program to read 2 integer is input from the user and find the largest number using and if-else AND TERNARY OPERTOR\n",
    "num1=int(input(\"enter the integer 1:\"))\n",
    "num2=int(input(\"enter the integer 2:\"))\n",
    "#if-else\n",
    "if(num1>num2):\n",
    "    print(f\"{num1} is largest number.\")\n",
    "else:\n",
    "    print(f\"{num2} is largest number.\")\n",
    "\n"
   ]
  },
  {
   "cell_type": "code",
   "execution_count": 10,
   "id": "b31e8f01",
   "metadata": {},
   "outputs": [
    {
     "name": "stdout",
     "output_type": "stream",
     "text": [
      "enter the integer 1:34\n",
      "enter the integer 2:43\n",
      "43 is largest number.\n"
     ]
    }
   ],
   "source": [
    "num1=int(input(\"enter the integer 1:\"))\n",
    "num2=int(input(\"enter the integer 2:\"))\n",
    "res=num1 if(num1>num2) else num2\n",
    "print(f\"{res} is largest number.\")"
   ]
  },
  {
   "cell_type": "code",
   "execution_count": 2,
   "id": "a9210c7e",
   "metadata": {},
   "outputs": [
    {
     "name": "stdout",
     "output_type": "stream",
     "text": [
      "enter the integer 1:24\n",
      "enter the integer 2:34\n",
      "34 is smallest number.\n"
     ]
    }
   ],
   "source": [
    "num1=int(input(\"enter the integer 1:\"))\n",
    "num2=int(input(\"enter the integer 2:\"))\n",
    "#if-else\n",
    "if(num1>num2):\n",
    "    print(f\"{num1} is smallest number.\")\n",
    "else:\n",
    "    print(f\"{num2} is smallest number.\")\n"
   ]
  },
  {
   "cell_type": "code",
   "execution_count": 3,
   "id": "30fc3bf8",
   "metadata": {},
   "outputs": [
    {
     "name": "stdout",
     "output_type": "stream",
     "text": [
      "enter the integer 1:24\n",
      "enter the integer 2:25\n",
      "25 is smallest number.\n"
     ]
    }
   ],
   "source": [
    "#to read two integer values as input from the user and smallest number\n",
    "num1=int(input(\"enter the integer 1:\"))\n",
    "num2=int(input(\"enter the integer 2:\"))\n",
    "res=num1 if(num1>num2) else num2\n",
    "print(f\"{res} is smallest number.\")"
   ]
  },
  {
   "cell_type": "code",
   "execution_count": 9,
   "id": "12536921",
   "metadata": {},
   "outputs": [
    {
     "name": "stdout",
     "output_type": "stream",
     "text": [
      "enter the integer 1:24\n",
      "enter the integer 2:23\n",
      "enter the integer 3:35\n",
      "35 is largestnumber.\n"
     ]
    }
   ],
   "source": [
    "# to read three integer values from user and find the largest number\n",
    "num1=int(input(\"enter the integer 1:\"))\n",
    "num2=int(input(\"enter the integer 2:\"))\n",
    "num3=int(input(\"enter the integer 3:\"))\n",
    "#if-else\n",
    "if(num1>num2 and num1>num3):\n",
    "    print(f\"{num1} is largest number.\")\n",
    "elif(num2>num1 and num2>num3):\n",
    "    print(f\"{num2} is largestnumber.\")\n",
    "else:\n",
    "     print(f\"{num3} is largestnumber.\")\n"
   ]
  },
  {
   "cell_type": "code",
   "execution_count": 1,
   "id": "ddabebc9",
   "metadata": {},
   "outputs": [
    {
     "name": "stdout",
     "output_type": "stream",
     "text": [
      "enter the integer 1:43\n",
      "enter the integer 2:23\n",
      "enter the integer 3:12\n",
      "12 is the smallest number\n"
     ]
    }
   ],
   "source": [
    "# three integer values as input from and  find smallest number \n",
    "num1=int(input(\"enter the integer 1:\"))\n",
    "num2=int(input(\"enter the integer 2:\"))\n",
    "num3=int(input(\"enter the integer 3:\"))\n",
    "smallest = num1 if(num1<num2 and num1<num3) else num2\n",
    "res=num3 if(num3<num1 and num3<num2) else smallest\n",
    "print(f\"{res} is the smallest number\")"
   ]
  },
  {
   "cell_type": "code",
   "execution_count": null,
   "id": "f9899c34",
   "metadata": {},
   "outputs": [],
   "source": [
    "# to read three integer values as input from the user and find the middle number using if else and ternary\n",
    "num1=int(input(\"enter the integer 1:\"))\n",
    "num2=int(input(\"enter the integer 2:\"))\n",
    "num3=int(input(\"enter the integer 3:\"))\n",
    "if (num1>=num2 and num1<=num3)or :\n",
    "    print"
   ]
  },
  {
   "cell_type": "code",
   "execution_count": 1,
   "id": "25675b1b",
   "metadata": {},
   "outputs": [
    {
     "name": "stdout",
     "output_type": "stream",
     "text": [
      "Enter integer 1: 23\n",
      "Enter integer 2: 34\n",
      "Enter integer 3: 35\n",
      "The middle number is: 34\n"
     ]
    }
   ],
   "source": [
    "# Read three integers\n",
    "num1 = int(input(\"Enter integer 1: \"))\n",
    "num2 = int(input(\"Enter integer 2: \"))\n",
    "num3 = int(input(\"Enter integer 3: \"))\n",
    "\n",
    "# Find the middle number\n",
    "if (num1 >= num2 and num1 <= num3) or (num1 <= num2 and num1 >= num3):\n",
    "    middle = num1\n",
    "elif (num2 >= num1 and num2 <= num3) or (num2 <= num1 and num2 >= num3):\n",
    "    middle = num2\n",
    "else:\n",
    "    middle = num3\n",
    "\n",
    "print(f\"The middle number is: {middle}\")\n"
   ]
  },
  {
   "cell_type": "code",
   "execution_count": null,
   "id": "0f2fe2d9",
   "metadata": {},
   "outputs": [],
   "source": [
    "num1=int(input(\"enter the integer 1:\"))\n",
    "num2=int(input(\"enter the integer 2:\"))\n",
    "num3=int(input(\"enter the integer 3:\"))\n",
    "middle = num1 if(num1 >= num2 and num1 <= num3) or (num1 <= num2 and num1 >= num3) else num2\n",
    "res=num3 if(num2 >= num1 and num2 <= num3) or (num2 <= num1 and num2 >= num3) else smallest\n",
    "print(f\"{res} is the smallest number\")"
   ]
  },
  {
   "cell_type": "code",
   "execution_count": null,
   "id": "a62dafbd",
   "metadata": {},
   "outputs": [],
   "source": [
    "res=num1 if(num1>n) else num2\n",
    "print(f\"{res} is smallest number.\")"
   ]
  },
  {
   "cell_type": "code",
   "execution_count": 4,
   "id": "c18e850b",
   "metadata": {},
   "outputs": [
    {
     "name": "stdout",
     "output_type": "stream",
     "text": [
      "enter the month number:2\n",
      "28 or 29 days\n"
     ]
    }
   ],
   "source": [
    "# to read the month number as input from the user and print respective number of days \n",
    "n=int(input(\"enter the month number:\"))\n",
    "if(n==1 or n==3 or n==5 or n==7 or n==8 or n==10 or n==12):\n",
    "    print(\"31 days\")\n",
    "elif(n==2):\n",
    "    print(\"28 or 29 days\")\n",
    "elif(n==4 or n==6 or n==9 or n==11):\n",
    "    print(\"30 days\")\n",
    "else:\n",
    "    print(\"invalid month\")"
   ]
  },
  {
   "cell_type": "code",
   "execution_count": 5,
   "id": "52249239",
   "metadata": {},
   "outputs": [
    {
     "name": "stdout",
     "output_type": "stream",
     "text": [
      "enter the age18\n",
      "eligible\n"
     ]
    }
   ],
   "source": [
    "# user eliginle or not\n",
    "n=int(input(\"enter the age\"))\n",
    "if(num<=18):\n",
    "    print(\"eligible\")\n",
    "else:\n",
    "    print(\"not eligible\")"
   ]
  },
  {
   "cell_type": "code",
   "execution_count": null,
   "id": "6b94b588",
   "metadata": {},
   "outputs": [],
   "source": [
    "n=int(input(\"enter the age\"))\n",
    "res='eligible' if(num>=18) else \"not a eligible\"\n",
    "print(res)"
   ]
  },
  {
   "cell_type": "code",
   "execution_count": 3,
   "id": "491a2609",
   "metadata": {},
   "outputs": [
    {
     "name": "stdout",
     "output_type": "stream",
     "text": [
      "enter3\n",
      "odd\n"
     ]
    }
   ],
   "source": [
    "# integer value as input from the user and check wheather it is even or odd number\n",
    "n=int(input(\"enter\"))\n",
    "if(n%2==0):\n",
    "    print(\"even\")\n",
    "else:\n",
    "    print(\"odd\")\n"
   ]
  },
  {
   "cell_type": "code",
   "execution_count": 1,
   "id": "f44cb696",
   "metadata": {},
   "outputs": [
    {
     "name": "stdout",
     "output_type": "stream",
     "text": [
      "enter the integer value15\n",
      "multiple of 3&5\n"
     ]
    }
   ],
   "source": [
    "# integer value as input from the user and check whather 3 and 5 or not\n",
    "n=int(input(\"enter the integer value\"))\n",
    "if(n%3==0 and n%5==0):\n",
    "    print(\"multiple of 3&5\")\n",
    "else:\n",
    "    print(\"not a multiple of 3 & 5\")"
   ]
  },
  {
   "cell_type": "code",
   "execution_count": null,
   "id": "827557ee",
   "metadata": {},
   "outputs": [],
   "source": [
    "#print(FIZZBUZZ---->3&5)\n",
    "n=int(input(\"enter the integer value\"))\n",
    "if(n%3==0):\n",
    "    print(\"fizz\")\n",
    "elif(n%5==0):\n",
    "    print(\"buzz\")\n",
    "elif(n%3==0 and n%5==0):\n",
    "    print(\"fizzbuzz\")"
   ]
  },
  {
   "cell_type": "code",
   "execution_count": 1,
   "id": "423c1185",
   "metadata": {},
   "outputs": [
    {
     "name": "stdout",
     "output_type": "stream",
     "text": [
      "enter the integer value20\n",
      "fizz\n"
     ]
    }
   ],
   "source": [
    "n=int(input(\"enter the integer value\"))\n",
    "if(n%3==0 and n%5==0):\n",
    "    print(\"fizzbuzz\")\n",
    "elif(n%3==0):\n",
    "    print(\"buzz\")\n",
    "elif(n%5==0):\n",
    "    print(\"fizz\")"
   ]
  },
  {
   "cell_type": "code",
   "execution_count": 4,
   "id": "9d03ac1c",
   "metadata": {},
   "outputs": [
    {
     "name": "stdout",
     "output_type": "stream",
     "text": [
      "enter the amount:4654\n",
      "500----------->9\n",
      "200----------->0\n",
      "100----------->1\n",
      "50----------->1\n",
      "10----------->0\n",
      "5----------->0\n",
      "2----------->2\n",
      "1----------->0\n"
     ]
    }
   ],
   "source": [
    "#print number notes required in indian term currency dimensions\n",
    "amount=int(input(\"enter the amount:\"))\n",
    "print(f\"500----------->{amount//500}\")\n",
    "amount=amount%500\n",
    "print(f\"200----------->{amount//200}\")\n",
    "amount=amount%200\n",
    "print(f\"100----------->{amount//100}\")\n",
    "amount=amount%100\n",
    "print(f\"50----------->{amount//50}\")\n",
    "amount=amount%50\n",
    "print(f\"10----------->{amount//10}\")\n",
    "amount=amount%10\n",
    "print(f\"5----------->{amount//5}\")\n",
    "amount=amount%5\n",
    "print(f\"2----------->{amount//2}\")\n",
    "amount=amount%2\n",
    "print(f\"1----------->{amount//1}\")\n",
    "amount=amount%1\n",
    "\n",
    "\n",
    "\n",
    "\n"
   ]
  },
  {
   "cell_type": "code",
   "execution_count": 2,
   "id": "d023e7e5",
   "metadata": {},
   "outputs": [
    {
     "name": "stdout",
     "output_type": "stream",
     "text": [
      "enter the number4366\n",
      "500---------> 8\n",
      "200---------> 1\n",
      "100---------> 1\n",
      "50---------> 1\n",
      "10---------> 1\n",
      "5---------> 1\n",
      "2---------> 0\n",
      "1---------> 1\n"
     ]
    }
   ],
   "source": [
    "amount=int(input(\"enter the number\"))\n",
    "n500=amount//500\n",
    "amount=amount%500\n",
    "n200=amount//200\n",
    "amount=amount%200\n",
    "n100=amount//100\n",
    "amount=amount%100\n",
    "n50=amount//50\n",
    "amount=amount%50\n",
    "n10=amount//10\n",
    "amount=amount%10\n",
    "n5=amount//5\n",
    "amount=amount%5\n",
    "n2=amount//2\n",
    "amount=amount%2\n",
    "n1=amount//1\n",
    "amount=amount%1\n",
    "print(\"500--------->\",n500)\n",
    "print(\"200--------->\",n200)\n",
    "print(\"100--------->\",n100)\n",
    "print(\"50--------->\",n50)\n",
    "print(\"10--------->\",n10)\n",
    "print(\"5--------->\",n5)\n",
    "print(\"2--------->\",n2)\n",
    "print(\"1--------->\",n1)"
   ]
  },
  {
   "cell_type": "code",
   "execution_count": null,
   "id": "ab33d31e",
   "metadata": {},
   "outputs": [],
   "source": []
  },
  {
   "cell_type": "code",
   "execution_count": null,
   "id": "b61881a8",
   "metadata": {},
   "outputs": [],
   "source": []
  }
 ],
 "metadata": {
  "kernelspec": {
   "display_name": "Python 3 (ipykernel)",
   "language": "python",
   "name": "python3"
  },
  "language_info": {
   "codemirror_mode": {
    "name": "ipython",
    "version": 3
   },
   "file_extension": ".py",
   "mimetype": "text/x-python",
   "name": "python",
   "nbconvert_exporter": "python",
   "pygments_lexer": "ipython3",
   "version": "3.9.7"
  }
 },
 "nbformat": 4,
 "nbformat_minor": 5
}
