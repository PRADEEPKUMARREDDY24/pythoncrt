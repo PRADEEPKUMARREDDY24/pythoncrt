{
 "cells": [
  {
   "cell_type": "code",
   "execution_count": 1,
   "id": "7c12f9dc",
   "metadata": {},
   "outputs": [
    {
     "name": "stdout",
     "output_type": "stream",
     "text": [
      "enter the value of n :3242\n",
      "digit count is 4\n"
     ]
    }
   ],
   "source": [
    "#while loop\n",
    "n=int(input(\"enter the value of n :\"))\n",
    "digit_count=0\n",
    "while(n!=0):\n",
    "    n=n//10\n",
    "    digit_count+=1\n",
    "print(f\"digit count is {digit_count}\")"
   ]
  },
  {
   "cell_type": "code",
   "execution_count": 3,
   "id": "45338bd0",
   "metadata": {},
   "outputs": [
    {
     "name": "stdout",
     "output_type": "stream",
     "text": [
      "enter the value of n :3456\n",
      "even digit count is 2\n",
      "odd digit count is 2\n"
     ]
    }
   ],
   "source": [
    "#count of even digits and odd digits.present in user input\n",
    "n=int(input(\"enter the value of n :\"))\n",
    "even,odd,rem=0,0,0\n",
    "while(n!=0):\n",
    "    rem=n%10\n",
    "    if rem%2==0:\n",
    "        even+=1\n",
    "    else:\n",
    "        odd+=1\n",
    "    n=n//10\n",
    "print(f\"even digit count is {even}\")\n",
    "print(f\"odd digit count is {odd}\")"
   ]
  },
  {
   "cell_type": "code",
   "execution_count": 4,
   "id": "d0a77ef2",
   "metadata": {},
   "outputs": [
    {
     "name": "stdout",
     "output_type": "stream",
     "text": [
      "enter the value of n :2427\n",
      "user entered number is 2427\n",
      "reversed number is 7242\n"
     ]
    }
   ],
   "source": [
    "#to read an integer value as input from the user and print reverse of it\n",
    "n=int(input(\"enter the value of n :\"))\n",
    "rem,rev=0,0\n",
    "print(f\"user entered number is {n}\")\n",
    "while(n!=0):\n",
    "    rem=n%10\n",
    "    rev=rev*10+rem\n",
    "    n=n//10\n",
    "print(f\"reversed number is {rev}\")"
   ]
  },
  {
   "cell_type": "code",
   "execution_count": 2,
   "id": "82004945",
   "metadata": {},
   "outputs": [
    {
     "name": "stdout",
     "output_type": "stream",
     "text": [
      "enter the value of n :432\n",
      "user entered number is 432\n",
      "reversed number is 234\n",
      "not a palindrome\n"
     ]
    }
   ],
   "source": [
    "# palindrome numbers\n",
    "n=int(input(\"enter the value of n :\"))\n",
    "rem,rev=0,0\n",
    "temp=n\n",
    "print(f\"user entered number is {n}\")\n",
    "while(n!=0):\n",
    "    rem=n%10\n",
    "    rev=rev*10+rem\n",
    "    n=n//10\n",
    "print(f\"reversed number is {rev}\")\n",
    "if(temp==rev):\n",
    "    print(\"palindrome\")\n",
    "else:\n",
    "    print(\"not a palindrome\")"
   ]
  },
  {
   "cell_type": "code",
   "execution_count": 4,
   "id": "7dbd604c",
   "metadata": {},
   "outputs": [
    {
     "name": "stdout",
     "output_type": "stream",
     "text": [
      "[10, 20, 30, 40, 50] <class 'list'>\n",
      "accessing the list elements using +ve index\n",
      "10\n",
      "20\n",
      "30\n",
      "40\n",
      "50\n",
      "accessing the list elements using -ve index\n",
      "10\n",
      "20\n",
      "30\n",
      "40\n",
      "50\n"
     ]
    }
   ],
   "source": [
    "# LIST\n",
    "# indexing\n",
    "#    -5 -4 -3 -2 -1\n",
    "num=[10,20,30,40,50]\n",
    "#    0  1  2  3  4\n",
    "print(num,type(num))\n",
    "print(\"accessing the list elements using +ve index\")\n",
    "print(num[0])\n",
    "print(num[1])\n",
    "print(num[2])\n",
    "print(num[3])\n",
    "print(num[4])\n",
    "print(\"accessing the list elements using -ve index\")\n",
    "print(num[-5])\n",
    "print(num[-4])\n",
    "print(num[-3])\n",
    "print(num[-2])\n",
    "print(num[-1])"
   ]
  },
  {
   "cell_type": "code",
   "execution_count": 11,
   "id": "ee2a3760",
   "metadata": {},
   "outputs": [
    {
     "name": "stdout",
     "output_type": "stream",
     "text": [
      "['java', 'c', 'c++', 'python']\n",
      "['python', 'c++', 'c', 'java']\n",
      "['html', 'sql', 'javascript', 'css']\n",
      "['java', 'c', 'c++', 'python', 'html', 'sql', 'javascript', 'css', 'dart', 'golang']\n",
      "['golang', 'dart', 'css', 'javascript', 'sql', 'html', 'python', 'c++', 'c', 'java']\n",
      "['java', 'c++', 'html', 'javascript', 'dart']\n"
     ]
    }
   ],
   "source": [
    "lang=[\"java\",\"c\",\"c++\",\"python\",\"html\",\"sql\",\"javascript\",\"css\",\"dart\",\"golang\"]\n",
    "print(lang[:4])\n",
    "print(lang[3::-1])\n",
    "print(lang[4:8])\n",
    "print(lang[::])\n",
    "print(lang[::-1])\n",
    "print(lang[:9:2])"
   ]
  },
  {
   "cell_type": "code",
   "execution_count": 14,
   "id": "eae53d32",
   "metadata": {},
   "outputs": [
    {
     "name": "stdout",
     "output_type": "stream",
     "text": [
      "black\n",
      "blue\n",
      "green\n",
      "red\n",
      "yellow\n",
      "pink\n"
     ]
    }
   ],
   "source": [
    "#list using for loop\n",
    "List=[\"black\",'blue','green','red','yellow','pink']\n",
    "for element in List:\n",
    "    print(element)"
   ]
  },
  {
   "cell_type": "code",
   "execution_count": 16,
   "id": "ec0623df",
   "metadata": {},
   "outputs": [
    {
     "name": "stdout",
     "output_type": "stream",
     "text": [
      "black blue green red yellow pink "
     ]
    }
   ],
   "source": [
    "#list using for loop horizontal\n",
    "List=[\"black\",'blue','green','red','yellow','pink']\n",
    "for element in List:\n",
    "    print(element,end=\" \")"
   ]
  },
  {
   "cell_type": "code",
   "execution_count": 15,
   "id": "03b4873f",
   "metadata": {},
   "outputs": [
    {
     "name": "stdout",
     "output_type": "stream",
     "text": [
      "black\n",
      "blue\n",
      "green\n",
      "red\n",
      "yellow\n",
      "pink\n"
     ]
    }
   ],
   "source": [
    "#list using while loop\n",
    "List=[\"black\",'blue','green','red','yellow','pink']\n",
    "i=0\n",
    "while(i<len(List)):\n",
    "    print(List[i])\n",
    "    i+=1"
   ]
  },
  {
   "cell_type": "code",
   "execution_count": 20,
   "id": "263c3cd7",
   "metadata": {},
   "outputs": [
    {
     "name": "stdout",
     "output_type": "stream",
     "text": [
      "['cse', 'ece', 'eee', 'civil', 'mech', 'csc']\n",
      "after deletion opertaion:\n",
      "['cse', 'ece', 'eee', 'civil', 'mech']\n"
     ]
    }
   ],
   "source": [
    "# deletion in list\n",
    "branch=['cse','ece',\"eee\",'civil','mech','csc']\n",
    "print(branch)\n",
    "del branch[5]\n",
    "print(\"after deletion opertaion:\")\n",
    "print(branch)"
   ]
  },
  {
   "cell_type": "code",
   "execution_count": 21,
   "id": "64b4cca7",
   "metadata": {},
   "outputs": [
    {
     "name": "stdout",
     "output_type": "stream",
     "text": [
      "original list:[24, 25, 64, 34, 77]\n",
      "length of list:5\n",
      "maximum value:77\n",
      "minimum value:24\n",
      "summation:224\n",
      "sorted list:[24, 25, 34, 64, 77]\n",
      "True\n",
      "True\n"
     ]
    }
   ],
   "source": [
    "# examples of built in function for list\n",
    "List=[24,25,64,34,77]\n",
    "print(f\"original list:{List}\")\n",
    "print(f\"length of list:{len(List)}\")\n",
    "print(f\"maximum value:{max(List)}\")\n",
    "print(f\"minimum value:{min(List)}\")\n",
    "print(f\"summation:{sum(List)}\")\n",
    "print(f\"sorted list:{sorted(List)}\")\n",
    "print(any(List))\n",
    "print(all(List))\n",
    "\n"
   ]
  },
  {
   "cell_type": "code",
   "execution_count": 23,
   "id": "f27e150f",
   "metadata": {},
   "outputs": [
    {
     "name": "stdout",
     "output_type": "stream",
     "text": [
      "[1, 2, 3]\n",
      "[1, 2, 3, 4]\n",
      "[1, 2, 3, 4, 5]\n"
     ]
    }
   ],
   "source": [
    "#built in methods\n",
    "\n",
    "list=[1,2,3]\n",
    "print(list)\n",
    "#adding an element to the end of the list\n",
    "list.append(4)\n",
    "print(list)\n",
    "list.append(5)\n",
    "print(list)"
   ]
  },
  {
   "cell_type": "code",
   "execution_count": 26,
   "id": "3b634ccb",
   "metadata": {},
   "outputs": [
    {
     "name": "stdout",
     "output_type": "stream",
     "text": [
      "[1, 2, 3]\n",
      "[5, 1, 2, 3]\n",
      "[5, 1, 2, 3, 4]\n"
     ]
    }
   ],
   "source": [
    "list=[1,2,3]\n",
    "print(list)\n",
    "#insert an element\n",
    "list.insert(0,5)\n",
    "print(list)\n",
    "list.insert(4,4)\n",
    "print(list)"
   ]
  },
  {
   "cell_type": "code",
   "execution_count": 32,
   "id": "51622df4",
   "metadata": {},
   "outputs": [
    {
     "name": "stdout",
     "output_type": "stream",
     "text": [
      "[1, 2, 3, 4, 4]\n",
      "[1, 2, 3, 4]\n",
      "[1, 2, 3]\n"
     ]
    }
   ],
   "source": [
    "list=[1,2,3,4,4]\n",
    "print(list)\n",
    "\n",
    "#remove an element\n",
    "\n",
    "list.remove(4)\n",
    "print(list)\n",
    "list.remove(4)\n",
    "print(list)\n",
    "\n"
   ]
  },
  {
   "cell_type": "code",
   "execution_count": 29,
   "id": "02f673e0",
   "metadata": {},
   "outputs": [
    {
     "name": "stdout",
     "output_type": "stream",
     "text": [
      "[1, 2, 3, 4]\n",
      "[1, 2, 3]\n",
      "[2, 3]\n"
     ]
    }
   ],
   "source": [
    "list=[1,2,3,4]\n",
    "print(list)\n",
    "\n",
    "#pop an element\n",
    "\n",
    "list.pop()\n",
    "print(list)\n",
    "list.pop(0)\n",
    "print(list)"
   ]
  },
  {
   "cell_type": "code",
   "execution_count": 34,
   "id": "a762f8ed",
   "metadata": {},
   "outputs": [
    {
     "name": "stdout",
     "output_type": "stream",
     "text": [
      "[5, 1, 2, 3, 5]\n"
     ]
    }
   ],
   "source": [
    "list=[1,2,3,34,5]\n",
    "list.append(8)\n",
    "list.insert(0,5)\n",
    "list.remove(34)\n",
    "list.pop()\n",
    "print(list)\n",
    "\n",
    "\n"
   ]
  },
  {
   "cell_type": "code",
   "execution_count": 36,
   "id": "dda1c8cc",
   "metadata": {},
   "outputs": [
    {
     "name": "stdout",
     "output_type": "stream",
     "text": [
      "[10, 20, 30, 40, 50]\n",
      "[50, 40, 30, 20, 10]\n"
     ]
    }
   ],
   "source": [
    "list=[10,20,30,40,50]\n",
    "print(list)\n",
    " # reverse method\n",
    "list.reverse()\n",
    "print(list)"
   ]
  },
  {
   "cell_type": "code",
   "execution_count": 39,
   "id": "c83ea242",
   "metadata": {},
   "outputs": [
    {
     "name": "stdout",
     "output_type": "stream",
     "text": [
      "[3, 5, 2, 1, 0, 7, 2]\n",
      "[0, 1, 2, 2, 3, 5, 7]\n"
     ]
    }
   ],
   "source": [
    "list=[3,5,2,1,0,7,2]\n",
    "print(list)\n",
    "\n",
    "#sorted \n",
    "\n",
    "list.sort()\n",
    "print(list)"
   ]
  },
  {
   "cell_type": "code",
   "execution_count": 44,
   "id": "de7bfea2",
   "metadata": {},
   "outputs": [
    {
     "name": "stdout",
     "output_type": "stream",
     "text": [
      "[1, 2, 3, 4, 5, 6]\n",
      "[4, 5, 6, 1, 2, 3, 4, 5, 6]\n"
     ]
    }
   ],
   "source": [
    "a=[1,2,3]\n",
    "b=[4,5,6]\n",
    "# extend\n",
    "a.extend(b)\n",
    "print(a)\n",
    "b.extend(a)\n",
    "print(b)"
   ]
  },
  {
   "cell_type": "code",
   "execution_count": 46,
   "id": "fe2d7804",
   "metadata": {},
   "outputs": [
    {
     "name": "stdout",
     "output_type": "stream",
     "text": [
      "[1, 2, 3, 1, 2, 3, 1, 2, 3, 1, 2, 3]\n",
      "[1, 2, 3, 1, 2, 3, 1, 2, 3]\n",
      "[1, 2, 3, 4, 5, 6]\n"
     ]
    }
   ],
   "source": [
    "a=[1,2,3]\n",
    "b=[4,5,6]\n",
    "#concat\n",
    "print(a+a+a+a)\n",
    "print(a*3)\n",
    "print(a+b)"
   ]
  },
  {
   "cell_type": "code",
   "execution_count": 3,
   "id": "510887ad",
   "metadata": {},
   "outputs": [
    {
     "name": "stdout",
     "output_type": "stream",
     "text": [
      "enter the value :7\n",
      "1\n",
      "4\n",
      "9\n",
      "16\n",
      "25\n",
      "36\n",
      "49\n"
     ]
    }
   ],
   "source": [
    "# to print the square values of 1 to n. using for loop and while loop\n",
    "n=int(input(\"enter the value :\"))\n",
    "for i in range(1,n+1):\n",
    "    print(i*i)\n"
   ]
  },
  {
   "cell_type": "code",
   "execution_count": 4,
   "id": "92586446",
   "metadata": {},
   "outputs": [
    {
     "name": "stdout",
     "output_type": "stream",
     "text": [
      "enter the value:7\n",
      "1\n",
      "4\n",
      "9\n",
      "16\n",
      "25\n",
      "36\n",
      "49\n"
     ]
    }
   ],
   "source": [
    "# square values using while loop\n",
    "n=int(input(\"enter the value:\"))\n",
    "i=1\n",
    "while(i<=n):\n",
    "    print(i*i)\n",
    "    i+=1"
   ]
  },
  {
   "cell_type": "code",
   "execution_count": 3,
   "id": "87642ebd",
   "metadata": {},
   "outputs": [
    {
     "name": "stdout",
     "output_type": "stream",
     "text": [
      "enter the value of a: 7\n",
      "enter the value of b: 8\n",
      "__________Operations Menu__________\n",
      "1.addition\n",
      "2.subtraction\n",
      "3.multiplication\n",
      "4.divison\n",
      "5.exit\n",
      "enter your choice1\n",
      "summation of 7,8 is 15\n",
      "__________Operations Menu__________\n",
      "1.addition\n",
      "2.subtraction\n",
      "3.multiplication\n",
      "4.divison\n",
      "5.exit\n",
      "enter your choice5\n",
      "thanks for using opertions\n"
     ]
    }
   ],
   "source": [
    "# to read 2 integers values as input from the user and perform the arthmetic opertaions based on following conditions \n",
    "#1.addition\n",
    "#2.subtraction\n",
    "#3.multiplication\n",
    "#4.divison\n",
    "#5.exit\n",
    "#iterate the loop 5 to exit\n",
    "\n",
    "a=int(input(\"enter the value of a: \"))\n",
    "b=int(input(\"enter the value of b: \"))\n",
    "while(True):\n",
    "    print(\"__________Operations Menu__________\")\n",
    "    print(\"1.addition\")\n",
    "    print(\"2.subtraction\")\n",
    "    print(\"3.multiplication\")\n",
    "    print(\"4.divison\")\n",
    "    print(\"5.exit\")\n",
    "    choice=int(input(\"enter your choice\"))\n",
    "    if(choice==1):\n",
    "        print(f\"summation of {a},{b} is {a+b}\")\n",
    "    elif(choice==2):\n",
    "        print(f\"differnce of {a},{b} is {a-b}\")\n",
    "    elif(choice==3):\n",
    "        print(f\"product of {a},{b} is {a*b}\")\n",
    "    elif(choice==4):\n",
    "        print(f\"reminder of {a},{b} is {a/b}\")\n",
    "    elif(choice==5):\n",
    "        print(\"thanks for using opertions\")\n",
    "        break\n",
    "        \n",
    "        \n",
    "        \n",
    "        \n",
    "        "
   ]
  },
  {
   "cell_type": "code",
   "execution_count": 11,
   "id": "4d45d13d",
   "metadata": {},
   "outputs": [
    {
     "name": "stdout",
     "output_type": "stream",
     "text": [
      "True\n",
      "False\n",
      "False\n",
      "\n",
      "True\n",
      "False\n"
     ]
    }
   ],
   "source": [
    "#membership operator\n",
    "num=[10,20,30,40,50]\n",
    "print(10 in num)\n",
    "print(10 not in num)\n",
    "print(60 in num)\n",
    "print()\n",
    "\n",
    "# using string\n",
    "str=\"python\"\n",
    "print(\"py\" in str)\n",
    "print(\"hn\" in str)"
   ]
  },
  {
   "cell_type": "code",
   "execution_count": 14,
   "id": "6dbe4253",
   "metadata": {},
   "outputs": [
    {
     "name": "stdout",
     "output_type": "stream",
     "text": [
      "__________Guest List Menu__________\n",
      "1.To view the Guest List\n",
      "2.To Add the Guest\n",
      "3.Check the guest attending the party or not\n",
      "4.To remove the Guest\n",
      "5.Print finalized the guest list\n",
      "enter your choice2\n",
      "enter the guest name :sunny\n",
      "sunny is added in the guest list-------\n",
      "\n",
      "__________Guest List Menu__________\n",
      "1.To view the Guest List\n",
      "2.To Add the Guest\n",
      "3.Check the guest attending the party or not\n",
      "4.To remove the Guest\n",
      "5.Print finalized the guest list\n",
      "enter your choice1\n",
      "guest list :\n",
      "['sunny']\n",
      "\n",
      "__________Guest List Menu__________\n",
      "1.To view the Guest List\n",
      "2.To Add the Guest\n",
      "3.Check the guest attending the party or not\n",
      "4.To remove the Guest\n",
      "5.Print finalized the guest list\n",
      "enter your choice3\n",
      "enter the guest name to check the status :sunny\n",
      "sunny is attending the party........\n",
      "\n",
      "__________Guest List Menu__________\n",
      "1.To view the Guest List\n",
      "2.To Add the Guest\n",
      "3.Check the guest attending the party or not\n",
      "4.To remove the Guest\n",
      "5.Print finalized the guest list\n",
      "enter your choice5\n",
      " finalized guest list :\n",
      "\n",
      "['sunny']\n"
     ]
    }
   ],
   "source": [
    "# program using the opertions like adding,removing,viewing and final list\n",
    "guest_list=[]\n",
    "while(True):\n",
    "    print(\"__________Guest List Menu__________\")\n",
    "    print(\"1.To view the Guest List\")\n",
    "    print(\"2.To Add the Guest\")\n",
    "    print(\"3.Check the guest attending the party or not\")\n",
    "    print(\"4.To remove the Guest\")\n",
    "    print(\"5.Print finalized the guest list\")\n",
    "    choice=int(input(\"enter your choice\"))\n",
    "    if(choice==1):\n",
    "        if(len(guest_list)==0):\n",
    "            print(\"guest list is empty\")\n",
    "        else:\n",
    "            print(\"guest list :\")\n",
    "            print(guest_list)\n",
    "        print()\n",
    "    elif(choice==2):\n",
    "        guest=input(\"enter the guest name :\")\n",
    "        guest_list.append(guest)\n",
    "        print(f\"{guest} is added in the guest list-------\")\n",
    "        print()\n",
    "    elif(choice==3):\n",
    "        guest=input(\"enter the guest name to check the status :\")\n",
    "        if guest in guest_list:\n",
    "            print(f\"{guest} is attending the party........\")\n",
    "        else:\n",
    "            print(f\"{guest} is not attending the party........\")\n",
    "        print()\n",
    "    elif(choice==4):\n",
    "        guest=input(\"enter the guest name whos not attending the party :\")\n",
    "        if guest in guest_list:\n",
    "            guest_list.remove(guest)\n",
    "            print(f\"{guest}'s name is removed from the guest list.....!\")\n",
    "        print()\n",
    "    elif(choice==5):\n",
    "        print(\" finalized guest list :\")\n",
    "        print()\n",
    "        print(guest_list)\n",
    "        break"
   ]
  },
  {
   "cell_type": "code",
   "execution_count": 3,
   "id": "a20c9c35",
   "metadata": {},
   "outputs": [
    {
     "name": "stdout",
     "output_type": "stream",
     "text": [
      "Original list: [10, -5, 3, -8, 15, -2, 7]\n",
      "After removing negatives: [10, 3, 15, 7]\n"
     ]
    }
   ],
   "source": [
    "#to print negative numbers from the list\n",
    "\n",
    "numbers = [10, -5, 3, -8, 15, -2, 7]\n",
    "\n",
    "positive_numbers = []\n",
    "for n in numbers:\n",
    "    if n >= 0:   # keep only non-negative\n",
    "        positive_numbers.append(n)\n",
    "\n",
    "print(\"Original list:\", numbers)\n",
    "print(\"After removing negatives:\", positive_numbers)\n",
    "\n"
   ]
  },
  {
   "cell_type": "code",
   "execution_count": 4,
   "id": "ca132a9a",
   "metadata": {},
   "outputs": [
    {
     "name": "stdout",
     "output_type": "stream",
     "text": [
      "Negative numbers in the list:\n",
      "-5\n",
      "-8\n",
      "-2\n"
     ]
    }
   ],
   "source": [
    "numbers = [10, -5, 3, -8, 15, -2, 7]\n",
    "print(\"Negative numbers in the list:\")\n",
    "for n in numbers:\n",
    "    if n < 0:   # check if number is negative\n",
    "        print(n)"
   ]
  },
  {
   "cell_type": "code",
   "execution_count": 14,
   "id": "147a6ae5",
   "metadata": {},
   "outputs": [
    {
     "name": "stdout",
     "output_type": "stream",
     "text": [
      "Even numbers from the list: [12, 34, 52, 8, 34, 34]\n",
      "Odd numbers from the list: [55, 35, 75, 9, 97]\n"
     ]
    }
   ],
   "source": [
    "# to count the odd numbera and even numbers from the present list\n",
    "numbers = [12, 34, 55, 52, 35, 8, 75, 34, 9, 34, 97]\n",
    "\n",
    "evens = []\n",
    "odds = []\n",
    "\n",
    "for i in numbers:\n",
    "    if i % 2 == 0:\n",
    "        evens.append(i)\n",
    "    else:\n",
    "        odds.append(i)\n",
    "\n",
    "print(\"Even numbers from the list:\", evens)\n",
    "print(\"Odd numbers from the list:\", odds)\n"
   ]
  },
  {
   "cell_type": "code",
   "execution_count": 20,
   "id": "4eaca7ff",
   "metadata": {},
   "outputs": [
    {
     "name": "stdout",
     "output_type": "stream",
     "text": [
      "[12, 34, 45, 34, 77, 3, 5, 7, 4, 5, 43]\n",
      "[3, 4, 5, 5, 7, 12, 34, 34, 43, 45, 77]\n"
     ]
    }
   ],
   "source": [
    "#to print 2 lists of numbers and concatnate the given lists and sorted in ascending order\n",
    "num=[12,34,45,34,77]\n",
    "num2=[3,5,7,4,5,43]\n",
    "\n",
    "combined=num+num2\n",
    "print(combined)\n",
    "sorted_list=sorted(combined)\n",
    "print(sorted_list)"
   ]
  },
  {
   "cell_type": "code",
   "execution_count": 31,
   "id": "a1483636",
   "metadata": {},
   "outputs": [
    {
     "name": "stdout",
     "output_type": "stream",
     "text": [
      "maximum number :97\n"
     ]
    }
   ],
   "source": [
    "#to print maximmum number from the list of numbers\n",
    "numbers = [12, 34, 55, 52, 35, 8, 75, 34, 9, 34, 97]\n",
    "print(f\"maximum number :{max(numbers)}\")"
   ]
  },
  {
   "cell_type": "code",
   "execution_count": 33,
   "id": "8a23975f",
   "metadata": {},
   "outputs": [
    {
     "name": "stdout",
     "output_type": "stream",
     "text": [
      "list is sorted : [8, 9, 12, 34, 34, 34, 35, 52, 55, 75, 97]\n",
      "second maximum number in the list :\n",
      "75\n"
     ]
    }
   ],
   "source": [
    "#second maximum number\n",
    "numbers = [12, 34, 55, 52, 35, 8, 75, 34, 9, 34, 97]\n",
    "sorted_list=sorted(numbers)\n",
    "print(f\"list is sorted :\",sorted_list)\n",
    "print(f\"second maximum number in the list :\")\n",
    "print(sorted_list[-2])"
   ]
  },
  {
   "cell_type": "code",
   "execution_count": null,
   "id": "143ac82c",
   "metadata": {},
   "outputs": [],
   "source": []
  }
 ],
 "metadata": {
  "kernelspec": {
   "display_name": "Python 3 (ipykernel)",
   "language": "python",
   "name": "python3"
  },
  "language_info": {
   "codemirror_mode": {
    "name": "ipython",
    "version": 3
   },
   "file_extension": ".py",
   "mimetype": "text/x-python",
   "name": "python",
   "nbconvert_exporter": "python",
   "pygments_lexer": "ipython3",
   "version": "3.9.7"
  }
 },
 "nbformat": 4,
 "nbformat_minor": 5
}
